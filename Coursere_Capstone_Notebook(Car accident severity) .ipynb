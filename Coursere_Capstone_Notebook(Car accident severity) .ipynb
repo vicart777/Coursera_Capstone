{
    "cells": [
        {
            "cell_type": "markdown",
            "metadata": {
                "collapsed": true
            },
            "source": "# Capstone Project  - Car accident severity\n"
        },
        {
            "cell_type": "markdown",
            "metadata": {},
            "source": "This notebook will be mainly used for the capstone project for IBM Data Science Professional Certificate. This project aims to use historical data and to build a model that can predict the car accident severity."
        },
        {
            "cell_type": "markdown",
            "metadata": {},
            "source": "## Business Understanding"
        },
        {
            "cell_type": "markdown",
            "metadata": {},
            "source": "### Problem description"
        },
        {
            "cell_type": "markdown",
            "metadata": {},
            "source": "Throughout the world, roads are shared by cars, buses, trucks, motorcycles, mopeds, pedestrians, animals, taxis, and other travelers. Travel made possible by motor vehicles supports economic and social development in many countries.\n\nNowadays vehicles are involved in crashes that are responsible for millions of deaths and injuries. According to Centers for Disease Control and Prevention (CDC), National Center for Injury Prevention and Control (NCIPC). Web-based Injury Statistics Query and Reporting System (WISQARS): https://webappa.cdc.gov/cgi-bin/broker.exe road traffic crashes are a leading cause of death in the world and the leading cause of non-natural death or healthy citizens for all age groups.\n\nLow- and middle-income countries are most affected.  According World Health Organization (WHO) Global Status Report on Road Safety 2018: https://www.who.int/violence_injury_prevention/road_safety_status/2018/en/ the road traffic crash death rate is over three times higher in low-income countries than in high-income countries.\n\nRoad traffic injuries place a huge economic burden on low- and middle-income countries. Each year, according to the latest available cost estimate (1998), road traffic injuries cost 518 billion dollars worldwide and $65 billion USD in low- and middle-income countries, which exceeds the total amount that these countries receive in development assistance (http://citeseerx.ist.psu.edu/viewdoc/download?doi=10.1.1.174.5207&rep=rep1&type=pdf).\n\nAccording to Eurostat statistic \"Road accident fatalities by vehicles\" car drivers and passengers represented the largest category of road traffic deaths in the EU in 2018, with 44.8% of all road traffic fatalities.\n\n\n<img src=\"https://ec.europa.eu/eurostat/statistics-explained/images/d/d8/Road_accident_fatalities_by_category_of_vehicles%2C_2018_%28%25%29_pie.png\" alt=\"https://ec.europa.eu/eurostat/statistics-explained/images/d/d8/Road_accident_fatalities_by_category_of_vehicles%2C_2018_%28%25%29_pie.png\" class=\"transparent shrinkToFit\" width=\"470\" height=\"472\">\n\nTherefore, it is important to search new ways to reduce road traffic accidents. \n"
        },
        {
            "cell_type": "markdown",
            "metadata": {},
            "source": "### Objective"
        },
        {
            "cell_type": "markdown",
            "metadata": {},
            "source": "To develop the navigation app that could warn the car drivers, given the weather, the road conditions and some other parameters about the possibility of getting into a car accident on the chosen route and how severe it would be. So this app would offer to change the travel route if it is possible or the car drivers can simply take into account the warn message and drive more carefully. "
        },
        {
            "cell_type": "markdown",
            "metadata": {},
            "source": "### The target audience"
        },
        {
            "cell_type": "markdown",
            "metadata": {},
            "source": "The target audience for this app are the car drivers with smartphones. "
        },
        {
            "cell_type": "markdown",
            "metadata": {},
            "source": "### Stakeholders"
        },
        {
            "cell_type": "markdown",
            "metadata": {},
            "source": "The main stakeholders are the governments of the countries that are interested in the reducing of car accidents on the roads."
        },
        {
            "cell_type": "markdown",
            "metadata": {},
            "source": "### Question"
        },
        {
            "cell_type": "markdown",
            "metadata": {},
            "source": "Can we predict for given route the severity of possible car accident in real time for any region?"
        },
        {
            "cell_type": "markdown",
            "metadata": {},
            "source": "## Data"
        },
        {
            "cell_type": "markdown",
            "metadata": {},
            "source": "### Data source"
        },
        {
            "cell_type": "markdown",
            "metadata": {},
            "source": "In order to create the required prediction model, we need to find the dependence of the severity of the accident on parameters that can be collected in real time, such as weather conditions.\n\nFirst, we need to use statistics about road traffic accidents to determine the factors that influence their severity. For these purposes, data from SDOT Traffic Management Division were used.\n\nAll collisions provided by SPD and recorded by Traffic Records with weekly update frequency. This includes all types of collisions in timeframe from 2004 to present. This dataset includes many attributes that describe all the circumstances of the accident, the number of victims and their severity.\n"
        },
        {
            "cell_type": "markdown",
            "metadata": {},
            "source": "### Data acquisition"
        },
        {
            "cell_type": "markdown",
            "metadata": {},
            "source": "At this stage, we need to upload a .csv file from the Internet source to our Python environment and create a dataframe using pandas to perform data analysis and derive some additional info from our raw data to define, which attributes could be potentially useful for future prediction model. "
        },
        {
            "cell_type": "code",
            "execution_count": 1,
            "metadata": {},
            "outputs": [],
            "source": "import pandas as pd\ndata_path = \"https://s3.us.cloud-object-storage.appdomain.cloud/cf-courses-data/CognitiveClass/DP0701EN/version-2/Data-Collisions.csv\"\ndf = pd.read_csv(data_path, low_memory=False)"
        },
        {
            "cell_type": "markdown",
            "metadata": {},
            "source": "After reading the dataset, it is necessary to look at the data frame to get a better intuition. Let's print the first 10 rows of our dataset."
        },
        {
            "cell_type": "code",
            "execution_count": 2,
            "metadata": {},
            "outputs": [
                {
                    "data": {
                        "text/html": "<div>\n<style scoped>\n    .dataframe tbody tr th:only-of-type {\n        vertical-align: middle;\n    }\n\n    .dataframe tbody tr th {\n        vertical-align: top;\n    }\n\n    .dataframe thead th {\n        text-align: right;\n    }\n</style>\n<table border=\"1\" class=\"dataframe\">\n  <thead>\n    <tr style=\"text-align: right;\">\n      <th></th>\n      <th>SEVERITYCODE</th>\n      <th>X</th>\n      <th>Y</th>\n      <th>OBJECTID</th>\n      <th>INCKEY</th>\n      <th>COLDETKEY</th>\n      <th>REPORTNO</th>\n      <th>STATUS</th>\n      <th>ADDRTYPE</th>\n      <th>INTKEY</th>\n      <th>...</th>\n      <th>ROADCOND</th>\n      <th>LIGHTCOND</th>\n      <th>PEDROWNOTGRNT</th>\n      <th>SDOTCOLNUM</th>\n      <th>SPEEDING</th>\n      <th>ST_COLCODE</th>\n      <th>ST_COLDESC</th>\n      <th>SEGLANEKEY</th>\n      <th>CROSSWALKKEY</th>\n      <th>HITPARKEDCAR</th>\n    </tr>\n  </thead>\n  <tbody>\n    <tr>\n      <th>0</th>\n      <td>2</td>\n      <td>-122.323148</td>\n      <td>47.703140</td>\n      <td>1</td>\n      <td>1307</td>\n      <td>1307</td>\n      <td>3502005</td>\n      <td>Matched</td>\n      <td>Intersection</td>\n      <td>37475.0</td>\n      <td>...</td>\n      <td>Wet</td>\n      <td>Daylight</td>\n      <td>NaN</td>\n      <td>NaN</td>\n      <td>NaN</td>\n      <td>10</td>\n      <td>Entering at angle</td>\n      <td>0</td>\n      <td>0</td>\n      <td>N</td>\n    </tr>\n    <tr>\n      <th>1</th>\n      <td>1</td>\n      <td>-122.347294</td>\n      <td>47.647172</td>\n      <td>2</td>\n      <td>52200</td>\n      <td>52200</td>\n      <td>2607959</td>\n      <td>Matched</td>\n      <td>Block</td>\n      <td>NaN</td>\n      <td>...</td>\n      <td>Wet</td>\n      <td>Dark - Street Lights On</td>\n      <td>NaN</td>\n      <td>6354039.0</td>\n      <td>NaN</td>\n      <td>11</td>\n      <td>From same direction - both going straight - bo...</td>\n      <td>0</td>\n      <td>0</td>\n      <td>N</td>\n    </tr>\n    <tr>\n      <th>2</th>\n      <td>1</td>\n      <td>-122.334540</td>\n      <td>47.607871</td>\n      <td>3</td>\n      <td>26700</td>\n      <td>26700</td>\n      <td>1482393</td>\n      <td>Matched</td>\n      <td>Block</td>\n      <td>NaN</td>\n      <td>...</td>\n      <td>Dry</td>\n      <td>Daylight</td>\n      <td>NaN</td>\n      <td>4323031.0</td>\n      <td>NaN</td>\n      <td>32</td>\n      <td>One parked--one moving</td>\n      <td>0</td>\n      <td>0</td>\n      <td>N</td>\n    </tr>\n    <tr>\n      <th>3</th>\n      <td>1</td>\n      <td>-122.334803</td>\n      <td>47.604803</td>\n      <td>4</td>\n      <td>1144</td>\n      <td>1144</td>\n      <td>3503937</td>\n      <td>Matched</td>\n      <td>Block</td>\n      <td>NaN</td>\n      <td>...</td>\n      <td>Dry</td>\n      <td>Daylight</td>\n      <td>NaN</td>\n      <td>NaN</td>\n      <td>NaN</td>\n      <td>23</td>\n      <td>From same direction - all others</td>\n      <td>0</td>\n      <td>0</td>\n      <td>N</td>\n    </tr>\n    <tr>\n      <th>4</th>\n      <td>2</td>\n      <td>-122.306426</td>\n      <td>47.545739</td>\n      <td>5</td>\n      <td>17700</td>\n      <td>17700</td>\n      <td>1807429</td>\n      <td>Matched</td>\n      <td>Intersection</td>\n      <td>34387.0</td>\n      <td>...</td>\n      <td>Wet</td>\n      <td>Daylight</td>\n      <td>NaN</td>\n      <td>4028032.0</td>\n      <td>NaN</td>\n      <td>10</td>\n      <td>Entering at angle</td>\n      <td>0</td>\n      <td>0</td>\n      <td>N</td>\n    </tr>\n    <tr>\n      <th>5</th>\n      <td>1</td>\n      <td>-122.387598</td>\n      <td>47.690575</td>\n      <td>6</td>\n      <td>320840</td>\n      <td>322340</td>\n      <td>E919477</td>\n      <td>Matched</td>\n      <td>Intersection</td>\n      <td>36974.0</td>\n      <td>...</td>\n      <td>Dry</td>\n      <td>Daylight</td>\n      <td>NaN</td>\n      <td>NaN</td>\n      <td>NaN</td>\n      <td>10</td>\n      <td>Entering at angle</td>\n      <td>0</td>\n      <td>0</td>\n      <td>N</td>\n    </tr>\n    <tr>\n      <th>6</th>\n      <td>1</td>\n      <td>-122.338485</td>\n      <td>47.618534</td>\n      <td>7</td>\n      <td>83300</td>\n      <td>83300</td>\n      <td>3282542</td>\n      <td>Matched</td>\n      <td>Intersection</td>\n      <td>29510.0</td>\n      <td>...</td>\n      <td>Wet</td>\n      <td>Daylight</td>\n      <td>NaN</td>\n      <td>8344002.0</td>\n      <td>NaN</td>\n      <td>10</td>\n      <td>Entering at angle</td>\n      <td>0</td>\n      <td>0</td>\n      <td>N</td>\n    </tr>\n    <tr>\n      <th>7</th>\n      <td>2</td>\n      <td>-122.320780</td>\n      <td>47.614076</td>\n      <td>9</td>\n      <td>330897</td>\n      <td>332397</td>\n      <td>EA30304</td>\n      <td>Matched</td>\n      <td>Intersection</td>\n      <td>29745.0</td>\n      <td>...</td>\n      <td>Dry</td>\n      <td>Daylight</td>\n      <td>NaN</td>\n      <td>NaN</td>\n      <td>NaN</td>\n      <td>5</td>\n      <td>Vehicle Strikes Pedalcyclist</td>\n      <td>6855</td>\n      <td>0</td>\n      <td>N</td>\n    </tr>\n    <tr>\n      <th>8</th>\n      <td>1</td>\n      <td>-122.335930</td>\n      <td>47.611904</td>\n      <td>10</td>\n      <td>63400</td>\n      <td>63400</td>\n      <td>2071243</td>\n      <td>Matched</td>\n      <td>Block</td>\n      <td>NaN</td>\n      <td>...</td>\n      <td>Dry</td>\n      <td>Daylight</td>\n      <td>NaN</td>\n      <td>6166014.0</td>\n      <td>NaN</td>\n      <td>32</td>\n      <td>One parked--one moving</td>\n      <td>0</td>\n      <td>0</td>\n      <td>N</td>\n    </tr>\n    <tr>\n      <th>9</th>\n      <td>2</td>\n      <td>-122.384700</td>\n      <td>47.528475</td>\n      <td>12</td>\n      <td>58600</td>\n      <td>58600</td>\n      <td>2072105</td>\n      <td>Matched</td>\n      <td>Intersection</td>\n      <td>34679.0</td>\n      <td>...</td>\n      <td>Dry</td>\n      <td>Daylight</td>\n      <td>NaN</td>\n      <td>6079001.0</td>\n      <td>NaN</td>\n      <td>10</td>\n      <td>Entering at angle</td>\n      <td>0</td>\n      <td>0</td>\n      <td>N</td>\n    </tr>\n  </tbody>\n</table>\n<p>10 rows \u00d7 38 columns</p>\n</div>",
                        "text/plain": "   SEVERITYCODE           X          Y  OBJECTID  INCKEY  COLDETKEY REPORTNO  \\\n0             2 -122.323148  47.703140         1    1307       1307  3502005   \n1             1 -122.347294  47.647172         2   52200      52200  2607959   \n2             1 -122.334540  47.607871         3   26700      26700  1482393   \n3             1 -122.334803  47.604803         4    1144       1144  3503937   \n4             2 -122.306426  47.545739         5   17700      17700  1807429   \n5             1 -122.387598  47.690575         6  320840     322340  E919477   \n6             1 -122.338485  47.618534         7   83300      83300  3282542   \n7             2 -122.320780  47.614076         9  330897     332397  EA30304   \n8             1 -122.335930  47.611904        10   63400      63400  2071243   \n9             2 -122.384700  47.528475        12   58600      58600  2072105   \n\n    STATUS      ADDRTYPE   INTKEY  ... ROADCOND                LIGHTCOND  \\\n0  Matched  Intersection  37475.0  ...      Wet                 Daylight   \n1  Matched         Block      NaN  ...      Wet  Dark - Street Lights On   \n2  Matched         Block      NaN  ...      Dry                 Daylight   \n3  Matched         Block      NaN  ...      Dry                 Daylight   \n4  Matched  Intersection  34387.0  ...      Wet                 Daylight   \n5  Matched  Intersection  36974.0  ...      Dry                 Daylight   \n6  Matched  Intersection  29510.0  ...      Wet                 Daylight   \n7  Matched  Intersection  29745.0  ...      Dry                 Daylight   \n8  Matched         Block      NaN  ...      Dry                 Daylight   \n9  Matched  Intersection  34679.0  ...      Dry                 Daylight   \n\n  PEDROWNOTGRNT  SDOTCOLNUM SPEEDING ST_COLCODE  \\\n0           NaN         NaN      NaN         10   \n1           NaN   6354039.0      NaN         11   \n2           NaN   4323031.0      NaN         32   \n3           NaN         NaN      NaN         23   \n4           NaN   4028032.0      NaN         10   \n5           NaN         NaN      NaN         10   \n6           NaN   8344002.0      NaN         10   \n7           NaN         NaN      NaN          5   \n8           NaN   6166014.0      NaN         32   \n9           NaN   6079001.0      NaN         10   \n\n                                          ST_COLDESC  SEGLANEKEY  \\\n0                                  Entering at angle           0   \n1  From same direction - both going straight - bo...           0   \n2                             One parked--one moving           0   \n3                   From same direction - all others           0   \n4                                  Entering at angle           0   \n5                                  Entering at angle           0   \n6                                  Entering at angle           0   \n7                       Vehicle Strikes Pedalcyclist        6855   \n8                             One parked--one moving           0   \n9                                  Entering at angle           0   \n\n   CROSSWALKKEY  HITPARKEDCAR  \n0             0             N  \n1             0             N  \n2             0             N  \n3             0             N  \n4             0             N  \n5             0             N  \n6             0             N  \n7             0             N  \n8             0             N  \n9             0             N  \n\n[10 rows x 38 columns]"
                    },
                    "execution_count": 2,
                    "metadata": {},
                    "output_type": "execute_result"
                }
            ],
            "source": "df.head(10)"
        },
        {
            "cell_type": "markdown",
            "metadata": {},
            "source": "As we can see the names of the attributes in our dataset are written using abbreviations. To decrypt them, in addition to the dataset, it is also necessary to download a file with metadata using a following link https://s3.us.cloud-object-storage.appdomain.cloud/cf-courses-data/CognitiveClass/DP0701EN/version-2/Metadata.pdf, which contains descriptions of the attributes. This will allow us to understand what information we have."
        },
        {
            "cell_type": "markdown",
            "metadata": {},
            "source": "### Data understanding"
        },
        {
            "cell_type": "markdown",
            "metadata": {},
            "source": "#### Defining a target function\n\nFirst of all, we must determine which of these attributes we will predict as a target function in our model. Our task is to predict the severity of a road traffic accident, so we will use SEVERITYCODE as a target function. It corresponds to the severity of the collision and is a discrete value. Therefore, we will use classification model for prediction.\n"
        },
        {
            "cell_type": "markdown",
            "metadata": {},
            "source": "#### Selecting the required attributes"
        },
        {
            "cell_type": "markdown",
            "metadata": {},
            "source": "Based on Metadata, we can preliminary analyze the attributes and filter out those that will not be useful for creating a prediction model. \n\nAt first, we can delete the specific codes and definitions that SDOT uses for its reports, since this information cannot in any way be used for data analysis. This includes the following attributes:\n\n* INCKEY - A unique key for the incident\n* COLDETKEY - Secondary key for the incident\n* SDOT_COLCODE - A code given to the collision by SDOT\n* SDOT_COLDESC - A description of the collision corresponding to the collision code\n* SDOTCOLNUM - A number given to the collision by SDOT\n* REPORTNO - A number of report\n* STATUS\n* EXCEPTRSNCODE\n* EXCEPTRSNDESC"
        },
        {
            "cell_type": "code",
            "execution_count": 3,
            "metadata": {},
            "outputs": [],
            "source": "df.drop(['INCKEY', 'COLDETKEY', 'SDOT_COLCODE', 'SDOT_COLDESC', 'SDOTCOLNUM', 'REPORTNO', 'STATUS', 'EXCEPTRSNCODE', 'EXCEPTRSNDESC'], axis=1, inplace=True)"
        },
        {
            "cell_type": "markdown",
            "metadata": {},
            "source": "Since for our task it is necessary that the algorithm be universal and can be applied in different regions, we need to weed out those attributes that are relevant only for Seattle. This includes all attributes that contain specific location data:\n\n* OBJECTID - ESRI unique identifier\n* SHAPE - ESRI geometry field\n* INTKEY - Key that corresponds to the intersection associated with a collision\n* LOCATION - Description of the general location of the collision\n* SEGLANEKEY - A key for the lane segment in which the collision occurred\n* CROSSWALKKEY - A key for the crosswalk at which the collision occurred\n* ADDRTYPE - Collision address type"
        },
        {
            "cell_type": "code",
            "execution_count": 4,
            "metadata": {},
            "outputs": [],
            "source": "df.drop(['OBJECTID', 'X', 'Y', 'INTKEY', 'LOCATION', 'SEGLANEKEY', 'CROSSWALKKEY', 'ADDRTYPE'], axis=1, inplace=True)"
        },
        {
            "cell_type": "markdown",
            "metadata": {},
            "source": "This report contains attributes that contain information about the number of people and vehicles involved in the incident, as well as information about the type of incident. Although they give a more complete understanding of the scale of the incident, they cannot be used as input parameters for the model, since this data was obtained after the incident.\n\n* COLLISIONTYPE - Collision type\n* PERSONCOUNT - The total number of people involved in the collision\n* PEDCOUNT - The number of pedestrians involved in the collision. \n* PEDCYLCOUNT - The number of bicycles involved in the collision. \n* VEHCOUNT - The number of vehicles involved in the collision\n* ST_COLCODE - A code provided by the state that describes the collision\n* ST_COLDESC - A description that corresponds to the state\u2019s coding designation \n* HITPARKEDCAR - Whether or not the collision involved hitting a parked car\n* JUNCTIONTYPE - Category of junction at which collision took place \n* PEDROWNOTGRNT - Whether or not the pedestrian right of way was not granted"
        },
        {
            "cell_type": "code",
            "execution_count": 5,
            "metadata": {},
            "outputs": [],
            "source": "df.drop(['COLLISIONTYPE', 'PERSONCOUNT', 'PEDCOUNT', 'PEDCYLCOUNT', 'VEHCOUNT', 'ST_COLCODE', 'ST_COLDESC', 'HITPARKEDCAR', 'JUNCTIONTYPE', 'PEDROWNOTGRNT'], axis=1, inplace=True)"
        },
        {
            "cell_type": "markdown",
            "metadata": {},
            "source": "We delete attributes containing date and time stamps of incidents, because based on this information, we cannot make assumptions about a possible accident in the future and its severity:\n\n* INCDATE - The date of the incident\n* INCDTTM - The date and time of the incident"
        },
        {
            "cell_type": "code",
            "execution_count": 7,
            "metadata": {},
            "outputs": [],
            "source": "df.drop(['INCDATE', 'INCDTTM'], axis=1, inplace=True)"
        },
        {
            "cell_type": "markdown",
            "metadata": {},
            "source": "This dataset has two SEVERITYCODE columns that duplicate each other. Therefore, we need to remove one of them."
        },
        {
            "cell_type": "code",
            "execution_count": 8,
            "metadata": {},
            "outputs": [
                {
                    "data": {
                        "text/html": "<div>\n<style scoped>\n    .dataframe tbody tr th:only-of-type {\n        vertical-align: middle;\n    }\n\n    .dataframe tbody tr th {\n        vertical-align: top;\n    }\n\n    .dataframe thead th {\n        text-align: right;\n    }\n</style>\n<table border=\"1\" class=\"dataframe\">\n  <thead>\n    <tr style=\"text-align: right;\">\n      <th></th>\n      <th>SEVERITYCODE</th>\n      <th>SEVERITYDESC</th>\n      <th>INATTENTIONIND</th>\n      <th>UNDERINFL</th>\n      <th>WEATHER</th>\n      <th>ROADCOND</th>\n      <th>LIGHTCOND</th>\n      <th>SPEEDING</th>\n    </tr>\n  </thead>\n  <tbody>\n    <tr>\n      <th>0</th>\n      <td>2</td>\n      <td>Injury Collision</td>\n      <td>NaN</td>\n      <td>N</td>\n      <td>Overcast</td>\n      <td>Wet</td>\n      <td>Daylight</td>\n      <td>NaN</td>\n    </tr>\n    <tr>\n      <th>1</th>\n      <td>1</td>\n      <td>Property Damage Only Collision</td>\n      <td>NaN</td>\n      <td>0</td>\n      <td>Raining</td>\n      <td>Wet</td>\n      <td>Dark - Street Lights On</td>\n      <td>NaN</td>\n    </tr>\n    <tr>\n      <th>2</th>\n      <td>1</td>\n      <td>Property Damage Only Collision</td>\n      <td>NaN</td>\n      <td>0</td>\n      <td>Overcast</td>\n      <td>Dry</td>\n      <td>Daylight</td>\n      <td>NaN</td>\n    </tr>\n    <tr>\n      <th>3</th>\n      <td>1</td>\n      <td>Property Damage Only Collision</td>\n      <td>NaN</td>\n      <td>N</td>\n      <td>Clear</td>\n      <td>Dry</td>\n      <td>Daylight</td>\n      <td>NaN</td>\n    </tr>\n    <tr>\n      <th>4</th>\n      <td>2</td>\n      <td>Injury Collision</td>\n      <td>NaN</td>\n      <td>0</td>\n      <td>Raining</td>\n      <td>Wet</td>\n      <td>Daylight</td>\n      <td>NaN</td>\n    </tr>\n    <tr>\n      <th>5</th>\n      <td>1</td>\n      <td>Property Damage Only Collision</td>\n      <td>NaN</td>\n      <td>N</td>\n      <td>Clear</td>\n      <td>Dry</td>\n      <td>Daylight</td>\n      <td>NaN</td>\n    </tr>\n    <tr>\n      <th>6</th>\n      <td>1</td>\n      <td>Property Damage Only Collision</td>\n      <td>NaN</td>\n      <td>0</td>\n      <td>Raining</td>\n      <td>Wet</td>\n      <td>Daylight</td>\n      <td>NaN</td>\n    </tr>\n    <tr>\n      <th>7</th>\n      <td>2</td>\n      <td>Injury Collision</td>\n      <td>NaN</td>\n      <td>N</td>\n      <td>Clear</td>\n      <td>Dry</td>\n      <td>Daylight</td>\n      <td>NaN</td>\n    </tr>\n    <tr>\n      <th>8</th>\n      <td>1</td>\n      <td>Property Damage Only Collision</td>\n      <td>NaN</td>\n      <td>0</td>\n      <td>Clear</td>\n      <td>Dry</td>\n      <td>Daylight</td>\n      <td>NaN</td>\n    </tr>\n    <tr>\n      <th>9</th>\n      <td>2</td>\n      <td>Injury Collision</td>\n      <td>NaN</td>\n      <td>0</td>\n      <td>Clear</td>\n      <td>Dry</td>\n      <td>Daylight</td>\n      <td>NaN</td>\n    </tr>\n  </tbody>\n</table>\n</div>",
                        "text/plain": "   SEVERITYCODE                    SEVERITYDESC INATTENTIONIND UNDERINFL  \\\n0             2                Injury Collision            NaN         N   \n1             1  Property Damage Only Collision            NaN         0   \n2             1  Property Damage Only Collision            NaN         0   \n3             1  Property Damage Only Collision            NaN         N   \n4             2                Injury Collision            NaN         0   \n5             1  Property Damage Only Collision            NaN         N   \n6             1  Property Damage Only Collision            NaN         0   \n7             2                Injury Collision            NaN         N   \n8             1  Property Damage Only Collision            NaN         0   \n9             2                Injury Collision            NaN         0   \n\n    WEATHER ROADCOND                LIGHTCOND SPEEDING  \n0  Overcast      Wet                 Daylight      NaN  \n1   Raining      Wet  Dark - Street Lights On      NaN  \n2  Overcast      Dry                 Daylight      NaN  \n3     Clear      Dry                 Daylight      NaN  \n4   Raining      Wet                 Daylight      NaN  \n5     Clear      Dry                 Daylight      NaN  \n6   Raining      Wet                 Daylight      NaN  \n7     Clear      Dry                 Daylight      NaN  \n8     Clear      Dry                 Daylight      NaN  \n9     Clear      Dry                 Daylight      NaN  "
                    },
                    "execution_count": 8,
                    "metadata": {},
                    "output_type": "execute_result"
                }
            ],
            "source": "df.drop(['SEVERITYCODE.1'], axis=1, inplace=True)\ndf.head(10)"
        },
        {
            "cell_type": "markdown",
            "metadata": {},
            "source": "The factors that led to the accident, such as the driver being under the influence of alcohol or drugs, speeding or inattention, affect the severity of the accident. But unfortunately these factors cannot be predicted in advance when applying a route for our users and they cannot be used for our model. Therefore, it is necessary to remove all cases of accidents that were caused by one of these factors, so as not to distort our statistics."
        },
        {
            "cell_type": "code",
            "execution_count": 9,
            "metadata": {},
            "outputs": [],
            "source": "df['SPEEDING'].unique()\nindexSPEEDING = df[ df['SPEEDING'] == 'Y' ].index\ndf.drop(indexSPEEDING , inplace=True)"
        },
        {
            "cell_type": "code",
            "execution_count": 10,
            "metadata": {},
            "outputs": [],
            "source": "df['INATTENTIONIND'].unique()\nindexINATTENTIONIND = df[ df['INATTENTIONIND'] == 'Y' ].index\ndf.drop(indexINATTENTIONIND , inplace=True)"
        },
        {
            "cell_type": "code",
            "execution_count": 11,
            "metadata": {},
            "outputs": [],
            "source": "df['UNDERINFL'].unique()\nindexUNDERINFL1 = df[ df['UNDERINFL'] == '1' ].index\nindexUNDERINFL2 = df[ df['UNDERINFL'] == 'Y' ].index\ndf.drop(indexUNDERINFL1 , inplace=True)\ndf.drop(indexUNDERINFL2 , inplace=True)\n"
        },
        {
            "cell_type": "markdown",
            "metadata": {},
            "source": "After all cases caused by these factors have been deleted, we can delete the corresponding columns."
        },
        {
            "cell_type": "code",
            "execution_count": 12,
            "metadata": {},
            "outputs": [
                {
                    "data": {
                        "text/html": "<div>\n<style scoped>\n    .dataframe tbody tr th:only-of-type {\n        vertical-align: middle;\n    }\n\n    .dataframe tbody tr th {\n        vertical-align: top;\n    }\n\n    .dataframe thead th {\n        text-align: right;\n    }\n</style>\n<table border=\"1\" class=\"dataframe\">\n  <thead>\n    <tr style=\"text-align: right;\">\n      <th></th>\n      <th>SEVERITYCODE</th>\n      <th>SEVERITYDESC</th>\n      <th>WEATHER</th>\n      <th>ROADCOND</th>\n      <th>LIGHTCOND</th>\n    </tr>\n  </thead>\n  <tbody>\n    <tr>\n      <th>0</th>\n      <td>2</td>\n      <td>Injury Collision</td>\n      <td>Overcast</td>\n      <td>Wet</td>\n      <td>Daylight</td>\n    </tr>\n    <tr>\n      <th>1</th>\n      <td>1</td>\n      <td>Property Damage Only Collision</td>\n      <td>Raining</td>\n      <td>Wet</td>\n      <td>Dark - Street Lights On</td>\n    </tr>\n    <tr>\n      <th>2</th>\n      <td>1</td>\n      <td>Property Damage Only Collision</td>\n      <td>Overcast</td>\n      <td>Dry</td>\n      <td>Daylight</td>\n    </tr>\n    <tr>\n      <th>3</th>\n      <td>1</td>\n      <td>Property Damage Only Collision</td>\n      <td>Clear</td>\n      <td>Dry</td>\n      <td>Daylight</td>\n    </tr>\n    <tr>\n      <th>4</th>\n      <td>2</td>\n      <td>Injury Collision</td>\n      <td>Raining</td>\n      <td>Wet</td>\n      <td>Daylight</td>\n    </tr>\n    <tr>\n      <th>5</th>\n      <td>1</td>\n      <td>Property Damage Only Collision</td>\n      <td>Clear</td>\n      <td>Dry</td>\n      <td>Daylight</td>\n    </tr>\n    <tr>\n      <th>6</th>\n      <td>1</td>\n      <td>Property Damage Only Collision</td>\n      <td>Raining</td>\n      <td>Wet</td>\n      <td>Daylight</td>\n    </tr>\n    <tr>\n      <th>7</th>\n      <td>2</td>\n      <td>Injury Collision</td>\n      <td>Clear</td>\n      <td>Dry</td>\n      <td>Daylight</td>\n    </tr>\n    <tr>\n      <th>8</th>\n      <td>1</td>\n      <td>Property Damage Only Collision</td>\n      <td>Clear</td>\n      <td>Dry</td>\n      <td>Daylight</td>\n    </tr>\n    <tr>\n      <th>9</th>\n      <td>2</td>\n      <td>Injury Collision</td>\n      <td>Clear</td>\n      <td>Dry</td>\n      <td>Daylight</td>\n    </tr>\n  </tbody>\n</table>\n</div>",
                        "text/plain": "   SEVERITYCODE                    SEVERITYDESC   WEATHER ROADCOND  \\\n0             2                Injury Collision  Overcast      Wet   \n1             1  Property Damage Only Collision   Raining      Wet   \n2             1  Property Damage Only Collision  Overcast      Dry   \n3             1  Property Damage Only Collision     Clear      Dry   \n4             2                Injury Collision   Raining      Wet   \n5             1  Property Damage Only Collision     Clear      Dry   \n6             1  Property Damage Only Collision   Raining      Wet   \n7             2                Injury Collision     Clear      Dry   \n8             1  Property Damage Only Collision     Clear      Dry   \n9             2                Injury Collision     Clear      Dry   \n\n                 LIGHTCOND  \n0                 Daylight  \n1  Dark - Street Lights On  \n2                 Daylight  \n3                 Daylight  \n4                 Daylight  \n5                 Daylight  \n6                 Daylight  \n7                 Daylight  \n8                 Daylight  \n9                 Daylight  "
                    },
                    "execution_count": 12,
                    "metadata": {},
                    "output_type": "execute_result"
                }
            ],
            "source": "df.drop(['INATTENTIONIND', 'UNDERINFL', 'SPEEDING'], axis=1, inplace=True)\ndf.head(10)"
        },
        {
            "cell_type": "markdown",
            "metadata": {},
            "source": "As a result, only those parameters remained that could potentially affect the severity of the accident and which can be collected in real time in order to always give the user an up-to-date prediction. These include:\n\n* WEATHER -  weather conditions during the time of the collision \n* LIGHTCOND - The light conditions during the collision\n* ROADCOND - The condition of the road during the collision\n"
        },
        {
            "cell_type": "markdown",
            "metadata": {},
            "source": "### Data pre-processing\n"
        },
        {
            "cell_type": "markdown",
            "metadata": {},
            "source": "#### Dealing with missing values "
        },
        {
            "cell_type": "markdown",
            "metadata": {},
            "source": "Let's check if the selected parameters contain missing values or if the selected parameter are unknown. If so then such cases should be removed from the dataset."
        },
        {
            "cell_type": "code",
            "execution_count": 14,
            "metadata": {},
            "outputs": [],
            "source": "df['WEATHER'].unique()\nindexWEATHER = df[ df['WEATHER'] == 'Unknown' ].index\ndf.drop(indexWEATHER , inplace=True)"
        },
        {
            "cell_type": "code",
            "execution_count": 15,
            "metadata": {},
            "outputs": [],
            "source": "df['ROADCOND'].unique()\nindexROADCOND = df[ df['ROADCOND'] == 'Unknown' ].index\ndf.drop(indexROADCOND , inplace=True)"
        },
        {
            "cell_type": "code",
            "execution_count": 16,
            "metadata": {},
            "outputs": [],
            "source": "df['LIGHTCOND'].unique()\nindexLIGHTCOND = df[ df['LIGHTCOND'] == 'Unknown' ].index\ndf.drop(indexLIGHTCOND , inplace=True)"
        },
        {
            "cell_type": "code",
            "execution_count": 17,
            "metadata": {},
            "outputs": [
                {
                    "data": {
                        "text/html": "<div>\n<style scoped>\n    .dataframe tbody tr th:only-of-type {\n        vertical-align: middle;\n    }\n\n    .dataframe tbody tr th {\n        vertical-align: top;\n    }\n\n    .dataframe thead th {\n        text-align: right;\n    }\n</style>\n<table border=\"1\" class=\"dataframe\">\n  <thead>\n    <tr style=\"text-align: right;\">\n      <th></th>\n      <th>SEVERITYCODE</th>\n      <th>SEVERITYDESC</th>\n      <th>WEATHER</th>\n      <th>ROADCOND</th>\n      <th>LIGHTCOND</th>\n    </tr>\n  </thead>\n  <tbody>\n    <tr>\n      <th>0</th>\n      <td>2</td>\n      <td>Injury Collision</td>\n      <td>Overcast</td>\n      <td>Wet</td>\n      <td>Daylight</td>\n    </tr>\n    <tr>\n      <th>1</th>\n      <td>1</td>\n      <td>Property Damage Only Collision</td>\n      <td>Raining</td>\n      <td>Wet</td>\n      <td>Dark - Street Lights On</td>\n    </tr>\n    <tr>\n      <th>2</th>\n      <td>1</td>\n      <td>Property Damage Only Collision</td>\n      <td>Overcast</td>\n      <td>Dry</td>\n      <td>Daylight</td>\n    </tr>\n    <tr>\n      <th>3</th>\n      <td>1</td>\n      <td>Property Damage Only Collision</td>\n      <td>Clear</td>\n      <td>Dry</td>\n      <td>Daylight</td>\n    </tr>\n    <tr>\n      <th>4</th>\n      <td>2</td>\n      <td>Injury Collision</td>\n      <td>Raining</td>\n      <td>Wet</td>\n      <td>Daylight</td>\n    </tr>\n    <tr>\n      <th>5</th>\n      <td>1</td>\n      <td>Property Damage Only Collision</td>\n      <td>Clear</td>\n      <td>Dry</td>\n      <td>Daylight</td>\n    </tr>\n    <tr>\n      <th>6</th>\n      <td>1</td>\n      <td>Property Damage Only Collision</td>\n      <td>Raining</td>\n      <td>Wet</td>\n      <td>Daylight</td>\n    </tr>\n    <tr>\n      <th>7</th>\n      <td>2</td>\n      <td>Injury Collision</td>\n      <td>Clear</td>\n      <td>Dry</td>\n      <td>Daylight</td>\n    </tr>\n    <tr>\n      <th>8</th>\n      <td>1</td>\n      <td>Property Damage Only Collision</td>\n      <td>Clear</td>\n      <td>Dry</td>\n      <td>Daylight</td>\n    </tr>\n    <tr>\n      <th>9</th>\n      <td>2</td>\n      <td>Injury Collision</td>\n      <td>Clear</td>\n      <td>Dry</td>\n      <td>Daylight</td>\n    </tr>\n    <tr>\n      <th>10</th>\n      <td>1</td>\n      <td>Property Damage Only Collision</td>\n      <td>Overcast</td>\n      <td>Dry</td>\n      <td>Daylight</td>\n    </tr>\n    <tr>\n      <th>11</th>\n      <td>1</td>\n      <td>Property Damage Only Collision</td>\n      <td>Clear</td>\n      <td>Dry</td>\n      <td>Daylight</td>\n    </tr>\n    <tr>\n      <th>12</th>\n      <td>1</td>\n      <td>Property Damage Only Collision</td>\n      <td>Raining</td>\n      <td>Wet</td>\n      <td>Dark - Street Lights On</td>\n    </tr>\n    <tr>\n      <th>13</th>\n      <td>1</td>\n      <td>Property Damage Only Collision</td>\n      <td>Raining</td>\n      <td>Wet</td>\n      <td>Dark - No Street Lights</td>\n    </tr>\n    <tr>\n      <th>14</th>\n      <td>2</td>\n      <td>Injury Collision</td>\n      <td>Clear</td>\n      <td>Dry</td>\n      <td>Dark - Street Lights On</td>\n    </tr>\n    <tr>\n      <th>16</th>\n      <td>2</td>\n      <td>Injury Collision</td>\n      <td>Overcast</td>\n      <td>Dry</td>\n      <td>Daylight</td>\n    </tr>\n    <tr>\n      <th>17</th>\n      <td>1</td>\n      <td>Property Damage Only Collision</td>\n      <td>Overcast</td>\n      <td>Dry</td>\n      <td>Daylight</td>\n    </tr>\n    <tr>\n      <th>18</th>\n      <td>2</td>\n      <td>Injury Collision</td>\n      <td>Clear</td>\n      <td>Dry</td>\n      <td>Daylight</td>\n    </tr>\n    <tr>\n      <th>20</th>\n      <td>2</td>\n      <td>Injury Collision</td>\n      <td>Clear</td>\n      <td>Dry</td>\n      <td>Dark - Street Lights On</td>\n    </tr>\n    <tr>\n      <th>21</th>\n      <td>2</td>\n      <td>Injury Collision</td>\n      <td>Clear</td>\n      <td>Dry</td>\n      <td>Daylight</td>\n    </tr>\n    <tr>\n      <th>27</th>\n      <td>1</td>\n      <td>Property Damage Only Collision</td>\n      <td>Clear</td>\n      <td>Dry</td>\n      <td>Daylight</td>\n    </tr>\n    <tr>\n      <th>28</th>\n      <td>1</td>\n      <td>Property Damage Only Collision</td>\n      <td>Clear</td>\n      <td>Dry</td>\n      <td>Daylight</td>\n    </tr>\n    <tr>\n      <th>29</th>\n      <td>1</td>\n      <td>Property Damage Only Collision</td>\n      <td>Clear</td>\n      <td>Dry</td>\n      <td>Daylight</td>\n    </tr>\n    <tr>\n      <th>30</th>\n      <td>1</td>\n      <td>Property Damage Only Collision</td>\n      <td>Raining</td>\n      <td>Wet</td>\n      <td>Dark - Street Lights On</td>\n    </tr>\n    <tr>\n      <th>31</th>\n      <td>1</td>\n      <td>Property Damage Only Collision</td>\n      <td>Clear</td>\n      <td>Dry</td>\n      <td>Dark - Street Lights On</td>\n    </tr>\n    <tr>\n      <th>32</th>\n      <td>1</td>\n      <td>Property Damage Only Collision</td>\n      <td>Clear</td>\n      <td>Dry</td>\n      <td>Daylight</td>\n    </tr>\n    <tr>\n      <th>35</th>\n      <td>1</td>\n      <td>Property Damage Only Collision</td>\n      <td>Raining</td>\n      <td>Wet</td>\n      <td>Daylight</td>\n    </tr>\n    <tr>\n      <th>37</th>\n      <td>1</td>\n      <td>Property Damage Only Collision</td>\n      <td>Clear</td>\n      <td>Dry</td>\n      <td>Daylight</td>\n    </tr>\n    <tr>\n      <th>38</th>\n      <td>1</td>\n      <td>Property Damage Only Collision</td>\n      <td>Clear</td>\n      <td>Dry</td>\n      <td>Dark - Street Lights On</td>\n    </tr>\n    <tr>\n      <th>39</th>\n      <td>1</td>\n      <td>Property Damage Only Collision</td>\n      <td>Clear</td>\n      <td>Dry</td>\n      <td>Daylight</td>\n    </tr>\n    <tr>\n      <th>...</th>\n      <td>...</td>\n      <td>...</td>\n      <td>...</td>\n      <td>...</td>\n      <td>...</td>\n    </tr>\n    <tr>\n      <th>194627</th>\n      <td>2</td>\n      <td>Injury Collision</td>\n      <td>Raining</td>\n      <td>Wet</td>\n      <td>Daylight</td>\n    </tr>\n    <tr>\n      <th>194628</th>\n      <td>1</td>\n      <td>Property Damage Only Collision</td>\n      <td>Overcast</td>\n      <td>Wet</td>\n      <td>Daylight</td>\n    </tr>\n    <tr>\n      <th>194630</th>\n      <td>1</td>\n      <td>Property Damage Only Collision</td>\n      <td>Overcast</td>\n      <td>Wet</td>\n      <td>Daylight</td>\n    </tr>\n    <tr>\n      <th>194632</th>\n      <td>1</td>\n      <td>Property Damage Only Collision</td>\n      <td>Clear</td>\n      <td>Dry</td>\n      <td>Daylight</td>\n    </tr>\n    <tr>\n      <th>194634</th>\n      <td>2</td>\n      <td>Injury Collision</td>\n      <td>Overcast</td>\n      <td>Wet</td>\n      <td>Dark - Street Lights On</td>\n    </tr>\n    <tr>\n      <th>194636</th>\n      <td>2</td>\n      <td>Injury Collision</td>\n      <td>Clear</td>\n      <td>Wet</td>\n      <td>Daylight</td>\n    </tr>\n    <tr>\n      <th>194637</th>\n      <td>2</td>\n      <td>Injury Collision</td>\n      <td>Raining</td>\n      <td>Wet</td>\n      <td>Daylight</td>\n    </tr>\n    <tr>\n      <th>194638</th>\n      <td>1</td>\n      <td>Property Damage Only Collision</td>\n      <td>Raining</td>\n      <td>Wet</td>\n      <td>Dusk</td>\n    </tr>\n    <tr>\n      <th>194640</th>\n      <td>2</td>\n      <td>Injury Collision</td>\n      <td>Overcast</td>\n      <td>Wet</td>\n      <td>Dark - Street Lights Off</td>\n    </tr>\n    <tr>\n      <th>194641</th>\n      <td>1</td>\n      <td>Property Damage Only Collision</td>\n      <td>Clear</td>\n      <td>Dry</td>\n      <td>Daylight</td>\n    </tr>\n    <tr>\n      <th>194642</th>\n      <td>1</td>\n      <td>Property Damage Only Collision</td>\n      <td>Clear</td>\n      <td>Dry</td>\n      <td>Daylight</td>\n    </tr>\n    <tr>\n      <th>194643</th>\n      <td>1</td>\n      <td>Property Damage Only Collision</td>\n      <td>Clear</td>\n      <td>Dry</td>\n      <td>Dark - Street Lights On</td>\n    </tr>\n    <tr>\n      <th>194644</th>\n      <td>1</td>\n      <td>Property Damage Only Collision</td>\n      <td>Clear</td>\n      <td>Dry</td>\n      <td>Dusk</td>\n    </tr>\n    <tr>\n      <th>194645</th>\n      <td>2</td>\n      <td>Injury Collision</td>\n      <td>Clear</td>\n      <td>Dry</td>\n      <td>Dark - Street Lights On</td>\n    </tr>\n    <tr>\n      <th>194649</th>\n      <td>2</td>\n      <td>Injury Collision</td>\n      <td>Clear</td>\n      <td>Dry</td>\n      <td>Dark - Street Lights On</td>\n    </tr>\n    <tr>\n      <th>194650</th>\n      <td>2</td>\n      <td>Injury Collision</td>\n      <td>Clear</td>\n      <td>Dry</td>\n      <td>Daylight</td>\n    </tr>\n    <tr>\n      <th>194651</th>\n      <td>1</td>\n      <td>Property Damage Only Collision</td>\n      <td>Clear</td>\n      <td>Wet</td>\n      <td>Dark - Street Lights On</td>\n    </tr>\n    <tr>\n      <th>194656</th>\n      <td>2</td>\n      <td>Injury Collision</td>\n      <td>Clear</td>\n      <td>Dry</td>\n      <td>Daylight</td>\n    </tr>\n    <tr>\n      <th>194657</th>\n      <td>1</td>\n      <td>Property Damage Only Collision</td>\n      <td>Raining</td>\n      <td>Wet</td>\n      <td>Dark - Street Lights On</td>\n    </tr>\n    <tr>\n      <th>194658</th>\n      <td>1</td>\n      <td>Property Damage Only Collision</td>\n      <td>Raining</td>\n      <td>Wet</td>\n      <td>Dark - Street Lights On</td>\n    </tr>\n    <tr>\n      <th>194659</th>\n      <td>1</td>\n      <td>Property Damage Only Collision</td>\n      <td>Raining</td>\n      <td>Wet</td>\n      <td>Dark - Street Lights On</td>\n    </tr>\n    <tr>\n      <th>194660</th>\n      <td>2</td>\n      <td>Injury Collision</td>\n      <td>Raining</td>\n      <td>Wet</td>\n      <td>Other</td>\n    </tr>\n    <tr>\n      <th>194662</th>\n      <td>1</td>\n      <td>Property Damage Only Collision</td>\n      <td>Clear</td>\n      <td>Dry</td>\n      <td>Dusk</td>\n    </tr>\n    <tr>\n      <th>194664</th>\n      <td>1</td>\n      <td>Property Damage Only Collision</td>\n      <td>Clear</td>\n      <td>Dry</td>\n      <td>Daylight</td>\n    </tr>\n    <tr>\n      <th>194665</th>\n      <td>1</td>\n      <td>Property Damage Only Collision</td>\n      <td>Clear</td>\n      <td>Dry</td>\n      <td>Daylight</td>\n    </tr>\n    <tr>\n      <th>194666</th>\n      <td>2</td>\n      <td>Injury Collision</td>\n      <td>Clear</td>\n      <td>Wet</td>\n      <td>Daylight</td>\n    </tr>\n    <tr>\n      <th>194668</th>\n      <td>2</td>\n      <td>Injury Collision</td>\n      <td>Clear</td>\n      <td>Dry</td>\n      <td>Daylight</td>\n    </tr>\n    <tr>\n      <th>194670</th>\n      <td>2</td>\n      <td>Injury Collision</td>\n      <td>Clear</td>\n      <td>Dry</td>\n      <td>Daylight</td>\n    </tr>\n    <tr>\n      <th>194671</th>\n      <td>2</td>\n      <td>Injury Collision</td>\n      <td>Clear</td>\n      <td>Dry</td>\n      <td>Dusk</td>\n    </tr>\n    <tr>\n      <th>194672</th>\n      <td>1</td>\n      <td>Property Damage Only Collision</td>\n      <td>Clear</td>\n      <td>Wet</td>\n      <td>Daylight</td>\n    </tr>\n  </tbody>\n</table>\n<p>126613 rows \u00d7 5 columns</p>\n</div>",
                        "text/plain": "        SEVERITYCODE                    SEVERITYDESC   WEATHER ROADCOND  \\\n0                  2                Injury Collision  Overcast      Wet   \n1                  1  Property Damage Only Collision   Raining      Wet   \n2                  1  Property Damage Only Collision  Overcast      Dry   \n3                  1  Property Damage Only Collision     Clear      Dry   \n4                  2                Injury Collision   Raining      Wet   \n5                  1  Property Damage Only Collision     Clear      Dry   \n6                  1  Property Damage Only Collision   Raining      Wet   \n7                  2                Injury Collision     Clear      Dry   \n8                  1  Property Damage Only Collision     Clear      Dry   \n9                  2                Injury Collision     Clear      Dry   \n10                 1  Property Damage Only Collision  Overcast      Dry   \n11                 1  Property Damage Only Collision     Clear      Dry   \n12                 1  Property Damage Only Collision   Raining      Wet   \n13                 1  Property Damage Only Collision   Raining      Wet   \n14                 2                Injury Collision     Clear      Dry   \n16                 2                Injury Collision  Overcast      Dry   \n17                 1  Property Damage Only Collision  Overcast      Dry   \n18                 2                Injury Collision     Clear      Dry   \n20                 2                Injury Collision     Clear      Dry   \n21                 2                Injury Collision     Clear      Dry   \n27                 1  Property Damage Only Collision     Clear      Dry   \n28                 1  Property Damage Only Collision     Clear      Dry   \n29                 1  Property Damage Only Collision     Clear      Dry   \n30                 1  Property Damage Only Collision   Raining      Wet   \n31                 1  Property Damage Only Collision     Clear      Dry   \n32                 1  Property Damage Only Collision     Clear      Dry   \n35                 1  Property Damage Only Collision   Raining      Wet   \n37                 1  Property Damage Only Collision     Clear      Dry   \n38                 1  Property Damage Only Collision     Clear      Dry   \n39                 1  Property Damage Only Collision     Clear      Dry   \n...              ...                             ...       ...      ...   \n194627             2                Injury Collision   Raining      Wet   \n194628             1  Property Damage Only Collision  Overcast      Wet   \n194630             1  Property Damage Only Collision  Overcast      Wet   \n194632             1  Property Damage Only Collision     Clear      Dry   \n194634             2                Injury Collision  Overcast      Wet   \n194636             2                Injury Collision     Clear      Wet   \n194637             2                Injury Collision   Raining      Wet   \n194638             1  Property Damage Only Collision   Raining      Wet   \n194640             2                Injury Collision  Overcast      Wet   \n194641             1  Property Damage Only Collision     Clear      Dry   \n194642             1  Property Damage Only Collision     Clear      Dry   \n194643             1  Property Damage Only Collision     Clear      Dry   \n194644             1  Property Damage Only Collision     Clear      Dry   \n194645             2                Injury Collision     Clear      Dry   \n194649             2                Injury Collision     Clear      Dry   \n194650             2                Injury Collision     Clear      Dry   \n194651             1  Property Damage Only Collision     Clear      Wet   \n194656             2                Injury Collision     Clear      Dry   \n194657             1  Property Damage Only Collision   Raining      Wet   \n194658             1  Property Damage Only Collision   Raining      Wet   \n194659             1  Property Damage Only Collision   Raining      Wet   \n194660             2                Injury Collision   Raining      Wet   \n194662             1  Property Damage Only Collision     Clear      Dry   \n194664             1  Property Damage Only Collision     Clear      Dry   \n194665             1  Property Damage Only Collision     Clear      Dry   \n194666             2                Injury Collision     Clear      Wet   \n194668             2                Injury Collision     Clear      Dry   \n194670             2                Injury Collision     Clear      Dry   \n194671             2                Injury Collision     Clear      Dry   \n194672             1  Property Damage Only Collision     Clear      Wet   \n\n                       LIGHTCOND  \n0                       Daylight  \n1        Dark - Street Lights On  \n2                       Daylight  \n3                       Daylight  \n4                       Daylight  \n5                       Daylight  \n6                       Daylight  \n7                       Daylight  \n8                       Daylight  \n9                       Daylight  \n10                      Daylight  \n11                      Daylight  \n12       Dark - Street Lights On  \n13       Dark - No Street Lights  \n14       Dark - Street Lights On  \n16                      Daylight  \n17                      Daylight  \n18                      Daylight  \n20       Dark - Street Lights On  \n21                      Daylight  \n27                      Daylight  \n28                      Daylight  \n29                      Daylight  \n30       Dark - Street Lights On  \n31       Dark - Street Lights On  \n32                      Daylight  \n35                      Daylight  \n37                      Daylight  \n38       Dark - Street Lights On  \n39                      Daylight  \n...                          ...  \n194627                  Daylight  \n194628                  Daylight  \n194630                  Daylight  \n194632                  Daylight  \n194634   Dark - Street Lights On  \n194636                  Daylight  \n194637                  Daylight  \n194638                      Dusk  \n194640  Dark - Street Lights Off  \n194641                  Daylight  \n194642                  Daylight  \n194643   Dark - Street Lights On  \n194644                      Dusk  \n194645   Dark - Street Lights On  \n194649   Dark - Street Lights On  \n194650                  Daylight  \n194651   Dark - Street Lights On  \n194656                  Daylight  \n194657   Dark - Street Lights On  \n194658   Dark - Street Lights On  \n194659   Dark - Street Lights On  \n194660                     Other  \n194662                      Dusk  \n194664                  Daylight  \n194665                  Daylight  \n194666                  Daylight  \n194668                  Daylight  \n194670                  Daylight  \n194671                      Dusk  \n194672                  Daylight  \n\n[126613 rows x 5 columns]"
                    },
                    "execution_count": 17,
                    "metadata": {},
                    "output_type": "execute_result"
                }
            ],
            "source": "df.dropna(subset=['WEATHER', 'ROADCOND', 'LIGHTCOND'])"
        },
        {
            "cell_type": "markdown",
            "metadata": {},
            "source": "#### Exploratory data analysis"
        },
        {
            "cell_type": "markdown",
            "metadata": {},
            "source": "Let\u2019s see how many of each class is in our data set:"
        },
        {
            "cell_type": "code",
            "execution_count": 18,
            "metadata": {},
            "outputs": [
                {
                    "data": {
                        "text/html": "<div>\n<style scoped>\n    .dataframe tbody tr th:only-of-type {\n        vertical-align: middle;\n    }\n\n    .dataframe tbody tr th {\n        vertical-align: top;\n    }\n\n    .dataframe thead th {\n        text-align: right;\n    }\n</style>\n<table border=\"1\" class=\"dataframe\">\n  <thead>\n    <tr style=\"text-align: right;\">\n      <th></th>\n      <th>SEVERITYCODE</th>\n    </tr>\n  </thead>\n  <tbody>\n    <tr>\n      <th>1</th>\n      <td>90851</td>\n    </tr>\n    <tr>\n      <th>2</th>\n      <td>40925</td>\n    </tr>\n  </tbody>\n</table>\n</div>",
                        "text/plain": "   SEVERITYCODE\n1         90851\n2         40925"
                    },
                    "execution_count": 18,
                    "metadata": {},
                    "output_type": "execute_result"
                }
            ],
            "source": "df['SEVERITYCODE'].value_counts().to_frame()"
        },
        {
            "cell_type": "markdown",
            "metadata": {},
            "source": "There are 90851 cases of property damage only and 40925 cases of injury collisions. This means that the distribution is uneven, which can negatively affect the model. No fatalities accidents left after pre-processing the data. Thus, I was unable to investigate the conditions that could lead to a fatal accident."
        },
        {
            "cell_type": "markdown",
            "metadata": {},
            "source": "Let's see how many accidents happened in each type of weather:"
        },
        {
            "cell_type": "code",
            "execution_count": 19,
            "metadata": {},
            "outputs": [
                {
                    "data": {
                        "text/html": "<div>\n<style scoped>\n    .dataframe tbody tr th:only-of-type {\n        vertical-align: middle;\n    }\n\n    .dataframe tbody tr th {\n        vertical-align: top;\n    }\n\n    .dataframe thead th {\n        text-align: right;\n    }\n</style>\n<table border=\"1\" class=\"dataframe\">\n  <thead>\n    <tr style=\"text-align: right;\">\n      <th></th>\n      <th>WEATHER</th>\n    </tr>\n  </thead>\n  <tbody>\n    <tr>\n      <th>Clear</th>\n      <td>81801</td>\n    </tr>\n    <tr>\n      <th>Raining</th>\n      <td>23598</td>\n    </tr>\n    <tr>\n      <th>Overcast</th>\n      <td>20022</td>\n    </tr>\n    <tr>\n      <th>Snowing</th>\n      <td>588</td>\n    </tr>\n    <tr>\n      <th>Fog/Smog/Smoke</th>\n      <td>378</td>\n    </tr>\n    <tr>\n      <th>Other</th>\n      <td>223</td>\n    </tr>\n    <tr>\n      <th>Sleet/Hail/Freezing Rain</th>\n      <td>80</td>\n    </tr>\n    <tr>\n      <th>Blowing Sand/Dirt</th>\n      <td>39</td>\n    </tr>\n    <tr>\n      <th>Severe Crosswind</th>\n      <td>20</td>\n    </tr>\n    <tr>\n      <th>Partly Cloudy</th>\n      <td>5</td>\n    </tr>\n  </tbody>\n</table>\n</div>",
                        "text/plain": "                          WEATHER\nClear                       81801\nRaining                     23598\nOvercast                    20022\nSnowing                       588\nFog/Smog/Smoke                378\nOther                         223\nSleet/Hail/Freezing Rain       80\nBlowing Sand/Dirt              39\nSevere Crosswind               20\nPartly Cloudy                   5"
                    },
                    "execution_count": 19,
                    "metadata": {},
                    "output_type": "execute_result"
                }
            ],
            "source": "df['WEATHER'].value_counts().to_frame()"
        },
        {
            "cell_type": "markdown",
            "metadata": {},
            "source": "Most accidents happened in clear weather. Also, many accidents occurred in overcast and during rain. These are the most frequent weather conditions that can be encountered on the road. Least of all accidents happened during partly cloudy weather and during a severe crosswind. These are the most unlikely weather conditions that can be encountered on the road. "
        },
        {
            "cell_type": "markdown",
            "metadata": {},
            "source": "Let's see how many accidents happened in each type of road condition:\n"
        },
        {
            "cell_type": "code",
            "execution_count": 20,
            "metadata": {},
            "outputs": [
                {
                    "data": {
                        "text/html": "<div>\n<style scoped>\n    .dataframe tbody tr th:only-of-type {\n        vertical-align: middle;\n    }\n\n    .dataframe tbody tr th {\n        vertical-align: top;\n    }\n\n    .dataframe thead th {\n        text-align: right;\n    }\n</style>\n<table border=\"1\" class=\"dataframe\">\n  <thead>\n    <tr style=\"text-align: right;\">\n      <th></th>\n      <th>ROADCOND</th>\n    </tr>\n  </thead>\n  <tbody>\n    <tr>\n      <th>Dry</th>\n      <td>91784</td>\n    </tr>\n    <tr>\n      <th>Wet</th>\n      <td>33538</td>\n    </tr>\n    <tr>\n      <th>Ice</th>\n      <td>675</td>\n    </tr>\n    <tr>\n      <th>Snow/Slush</th>\n      <td>566</td>\n    </tr>\n    <tr>\n      <th>Other</th>\n      <td>74</td>\n    </tr>\n    <tr>\n      <th>Oil</th>\n      <td>56</td>\n    </tr>\n    <tr>\n      <th>Standing Water</th>\n      <td>52</td>\n    </tr>\n    <tr>\n      <th>Sand/Mud/Dirt</th>\n      <td>50</td>\n    </tr>\n  </tbody>\n</table>\n</div>",
                        "text/plain": "                ROADCOND\nDry                91784\nWet                33538\nIce                  675\nSnow/Slush           566\nOther                 74\nOil                   56\nStanding Water        52\nSand/Mud/Dirt         50"
                    },
                    "execution_count": 20,
                    "metadata": {},
                    "output_type": "execute_result"
                }
            ],
            "source": "df['ROADCOND'].value_counts().to_frame()"
        },
        {
            "cell_type": "markdown",
            "metadata": {},
            "source": "Most accidents occurred on a dry road. Many accidents also happened on a wet road. Other conditions are very unlikely.  Least of all accidents happened on standing water and sand/mud/dirt."
        },
        {
            "cell_type": "code",
            "execution_count": 21,
            "metadata": {},
            "outputs": [
                {
                    "data": {
                        "text/html": "<div>\n<style scoped>\n    .dataframe tbody tr th:only-of-type {\n        vertical-align: middle;\n    }\n\n    .dataframe tbody tr th {\n        vertical-align: top;\n    }\n\n    .dataframe thead th {\n        text-align: right;\n    }\n</style>\n<table border=\"1\" class=\"dataframe\">\n  <thead>\n    <tr style=\"text-align: right;\">\n      <th></th>\n      <th>LIGHTCOND</th>\n    </tr>\n  </thead>\n  <tbody>\n    <tr>\n      <th>Daylight</th>\n      <td>86498</td>\n    </tr>\n    <tr>\n      <th>Dark - Street Lights On</th>\n      <td>32092</td>\n    </tr>\n    <tr>\n      <th>Dusk</th>\n      <td>4374</td>\n    </tr>\n    <tr>\n      <th>Dawn</th>\n      <td>1794</td>\n    </tr>\n    <tr>\n      <th>Dark - No Street Lights</th>\n      <td>1011</td>\n    </tr>\n    <tr>\n      <th>Dark - Street Lights Off</th>\n      <td>768</td>\n    </tr>\n    <tr>\n      <th>Other</th>\n      <td>162</td>\n    </tr>\n    <tr>\n      <th>Dark - Unknown Lighting</th>\n      <td>9</td>\n    </tr>\n  </tbody>\n</table>\n</div>",
                        "text/plain": "                          LIGHTCOND\nDaylight                      86498\nDark - Street Lights On       32092\nDusk                           4374\nDawn                           1794\nDark - No Street Lights        1011\nDark - Street Lights Off        768\nOther                           162\nDark - Unknown Lighting           9"
                    },
                    "execution_count": 21,
                    "metadata": {},
                    "output_type": "execute_result"
                }
            ],
            "source": "df['LIGHTCOND'].value_counts().to_frame()"
        },
        {
            "cell_type": "markdown",
            "metadata": {},
            "source": "Most accidents occurred in daylight. Many accidents also happened in the dark with the lights on.\n\nThis information only gives us an understanding of how the data is distributed in our dataset. From this distribution we can conclude which conditions are the most frequent.\n"
        },
        {
            "cell_type": "markdown",
            "metadata": {},
            "source": "Let's take a look at the percentage of property damage and injury collisions for each type of condition:"
        },
        {
            "cell_type": "code",
            "execution_count": 22,
            "metadata": {},
            "outputs": [
                {
                    "data": {
                        "text/plain": "LIGHTCOND                 SEVERITYCODE\nDark - No Street Lights   1               0.801187\n                          2               0.198813\nDark - Street Lights Off  1               0.760417\n                          2               0.239583\nDark - Street Lights On   1               0.718746\n                          2               0.281254\nDark - Unknown Lighting   1               0.555556\n                          2               0.444444\nDawn                      1               0.676700\n                          2               0.323300\nDaylight                  1               0.671437\n                          2               0.328563\nDusk                      1               0.679241\n                          2               0.320759\nOther                     1               0.783951\n                          2               0.216049\nName: SEVERITYCODE, dtype: float64"
                    },
                    "execution_count": 22,
                    "metadata": {},
                    "output_type": "execute_result"
                }
            ],
            "source": "df.groupby(['LIGHTCOND'])['SEVERITYCODE'].value_counts(normalize=True)"
        },
        {
            "cell_type": "markdown",
            "metadata": {},
            "source": "Consider the distribution of data under the most common lighting conditions: Daylight and Dark-Street Lights On. The distribution roughly corresponds to the distribution of data across classes. The greatest deviation from the general distribution is observed under the rarest lighting conditions. "
        },
        {
            "cell_type": "code",
            "execution_count": 23,
            "metadata": {},
            "outputs": [
                {
                    "data": {
                        "text/plain": "WEATHER                   SEVERITYCODE\nBlowing Sand/Dirt         1               0.692308\n                          2               0.307692\nClear                     1               0.688036\n                          2               0.311964\nFog/Smog/Smoke            1               0.695767\n                          2               0.304233\nOther                     1               0.695067\n                          2               0.304933\nOvercast                  1               0.690740\n                          2               0.309260\nPartly Cloudy             2               0.600000\n                          1               0.400000\nRaining                   1               0.668785\n                          2               0.331215\nSevere Crosswind          1               0.750000\n                          2               0.250000\nSleet/Hail/Freezing Rain  1               0.737500\n                          2               0.262500\nSnowing                   1               0.821429\n                          2               0.178571\nName: SEVERITYCODE, dtype: float64"
                    },
                    "execution_count": 23,
                    "metadata": {},
                    "output_type": "execute_result"
                }
            ],
            "source": "df.groupby(['WEATHER'])['SEVERITYCODE'].value_counts(normalize=True)"
        },
        {
            "cell_type": "markdown",
            "metadata": {},
            "source": "When looking at the distribution of the data for the most frequent weather conditions (Clear, Raining and Overcast), it is noticeable that they almost perfectly correspond to the general distribution. The greatest deviations from the general distribution by classes are observed in snowy and partly cloudy weather. This can be explained by the fact that under these conditions there were few accidents."
        },
        {
            "cell_type": "code",
            "execution_count": 24,
            "metadata": {},
            "outputs": [
                {
                    "data": {
                        "text/plain": "ROADCOND        SEVERITYCODE\nDry             1               0.688846\n                2               0.311154\nIce             1               0.791111\n                2               0.208889\nOil             1               0.607143\n                2               0.392857\nOther           1               0.567568\n                2               0.432432\nSand/Mud/Dirt   1               0.700000\n                2               0.300000\nSnow/Slush      1               0.825088\n                2               0.174912\nStanding Water  1               0.730769\n                2               0.269231\nWet             1               0.672312\n                2               0.327688\nName: SEVERITYCODE, dtype: float64"
                    },
                    "execution_count": 24,
                    "metadata": {},
                    "output_type": "execute_result"
                }
            ],
            "source": "df.groupby(['ROADCOND'])['SEVERITYCODE'].value_counts(normalize=True)"
        },
        {
            "cell_type": "markdown",
            "metadata": {},
            "source": "Under the most common conditions (Dry and Wet), the distribution of the data is very close to the general distribution. In most other road conditions, the distribution deviates from the overall distribution. However, these conditions are very rare.\n\nFrom this analysis, it was concluded that the distribution for individual road, weather and lighting conditions does not differ from the overall distribution of the data. This is a bad signal as it may mean that there is no clear correlation between the conditions chosen and the severity of the accident.\n"
        },
        {
            "cell_type": "markdown",
            "metadata": {},
            "source": "Now let's calculate the average accident severity for each combination of conditions:"
        },
        {
            "cell_type": "code",
            "execution_count": 25,
            "metadata": {},
            "outputs": [],
            "source": "df_test = df[['LIGHTCOND', 'WEATHER', 'ROADCOND', 'SEVERITYCODE']]"
        },
        {
            "cell_type": "code",
            "execution_count": 26,
            "metadata": {},
            "outputs": [
                {
                    "data": {
                        "text/html": "<div>\n<style scoped>\n    .dataframe tbody tr th:only-of-type {\n        vertical-align: middle;\n    }\n\n    .dataframe tbody tr th {\n        vertical-align: top;\n    }\n\n    .dataframe thead th {\n        text-align: right;\n    }\n</style>\n<table border=\"1\" class=\"dataframe\">\n  <thead>\n    <tr style=\"text-align: right;\">\n      <th></th>\n      <th>LIGHTCOND</th>\n      <th>WEATHER</th>\n      <th>ROADCOND</th>\n      <th>SEVERITYCODE</th>\n    </tr>\n  </thead>\n  <tbody>\n    <tr>\n      <th>19</th>\n      <td>Dark - No Street Lights</td>\n      <td>Raining</td>\n      <td>Ice</td>\n      <td>2.000000</td>\n    </tr>\n    <tr>\n      <th>88</th>\n      <td>Dark - Street Lights On</td>\n      <td>Sleet/Hail/Freezing Rain</td>\n      <td>Dry</td>\n      <td>2.000000</td>\n    </tr>\n    <tr>\n      <th>183</th>\n      <td>Dusk</td>\n      <td>Clear</td>\n      <td>Oil</td>\n      <td>2.000000</td>\n    </tr>\n    <tr>\n      <th>184</th>\n      <td>Dusk</td>\n      <td>Clear</td>\n      <td>Other</td>\n      <td>2.000000</td>\n    </tr>\n    <tr>\n      <th>24</th>\n      <td>Dark - No Street Lights</td>\n      <td>Sleet/Hail/Freezing Rain</td>\n      <td>Wet</td>\n      <td>2.000000</td>\n    </tr>\n    <tr>\n      <th>22</th>\n      <td>Dark - No Street Lights</td>\n      <td>Raining</td>\n      <td>Standing Water</td>\n      <td>2.000000</td>\n    </tr>\n    <tr>\n      <th>190</th>\n      <td>Dusk</td>\n      <td>Other</td>\n      <td>Ice</td>\n      <td>2.000000</td>\n    </tr>\n    <tr>\n      <th>170</th>\n      <td>Daylight</td>\n      <td>Sleet/Hail/Freezing Rain</td>\n      <td>Dry</td>\n      <td>2.000000</td>\n    </tr>\n    <tr>\n      <th>17</th>\n      <td>Dark - No Street Lights</td>\n      <td>Partly Cloudy</td>\n      <td>Dry</td>\n      <td>2.000000</td>\n    </tr>\n    <tr>\n      <th>195</th>\n      <td>Dusk</td>\n      <td>Overcast</td>\n      <td>Other</td>\n      <td>2.000000</td>\n    </tr>\n    <tr>\n      <th>56</th>\n      <td>Dark - Street Lights On</td>\n      <td>Clear</td>\n      <td>Standing Water</td>\n      <td>2.000000</td>\n    </tr>\n    <tr>\n      <th>85</th>\n      <td>Dark - Street Lights On</td>\n      <td>Severe Crosswind</td>\n      <td>Dry</td>\n      <td>2.000000</td>\n    </tr>\n    <tr>\n      <th>49</th>\n      <td>Dark - Street Lights On</td>\n      <td>Blowing Sand/Dirt</td>\n      <td>Wet</td>\n      <td>2.000000</td>\n    </tr>\n    <tr>\n      <th>95</th>\n      <td>Dark - Street Lights On</td>\n      <td>Snowing</td>\n      <td>Other</td>\n      <td>2.000000</td>\n    </tr>\n    <tr>\n      <th>120</th>\n      <td>Dawn</td>\n      <td>Partly Cloudy</td>\n      <td>Wet</td>\n      <td>2.000000</td>\n    </tr>\n    <tr>\n      <th>8</th>\n      <td>Dark - No Street Lights</td>\n      <td>Fog/Smog/Smoke</td>\n      <td>Ice</td>\n      <td>2.000000</td>\n    </tr>\n    <tr>\n      <th>208</th>\n      <td>Other</td>\n      <td>Clear</td>\n      <td>Snow/Slush</td>\n      <td>2.000000</td>\n    </tr>\n    <tr>\n      <th>35</th>\n      <td>Dark - Street Lights Off</td>\n      <td>Overcast</td>\n      <td>Ice</td>\n      <td>2.000000</td>\n    </tr>\n    <tr>\n      <th>100</th>\n      <td>Dark - Unknown Lighting</td>\n      <td>Clear</td>\n      <td>Wet</td>\n      <td>2.000000</td>\n    </tr>\n    <tr>\n      <th>101</th>\n      <td>Dark - Unknown Lighting</td>\n      <td>Other</td>\n      <td>Dry</td>\n      <td>2.000000</td>\n    </tr>\n    <tr>\n      <th>104</th>\n      <td>Dawn</td>\n      <td>Blowing Sand/Dirt</td>\n      <td>Dry</td>\n      <td>2.000000</td>\n    </tr>\n    <tr>\n      <th>130</th>\n      <td>Dawn</td>\n      <td>Snowing</td>\n      <td>Wet</td>\n      <td>1.750000</td>\n    </tr>\n    <tr>\n      <th>136</th>\n      <td>Daylight</td>\n      <td>Clear</td>\n      <td>Oil</td>\n      <td>1.727273</td>\n    </tr>\n    <tr>\n      <th>163</th>\n      <td>Daylight</td>\n      <td>Raining</td>\n      <td>Other</td>\n      <td>1.666667</td>\n    </tr>\n    <tr>\n      <th>188</th>\n      <td>Dusk</td>\n      <td>Fog/Smog/Smoke</td>\n      <td>Dry</td>\n      <td>1.666667</td>\n    </tr>\n    <tr>\n      <th>143</th>\n      <td>Daylight</td>\n      <td>Fog/Smog/Smoke</td>\n      <td>Ice</td>\n      <td>1.666667</td>\n    </tr>\n    <tr>\n      <th>64</th>\n      <td>Dark - Street Lights On</td>\n      <td>Other</td>\n      <td>Ice</td>\n      <td>1.666667</td>\n    </tr>\n    <tr>\n      <th>214</th>\n      <td>Other</td>\n      <td>Overcast</td>\n      <td>Wet</td>\n      <td>1.600000</td>\n    </tr>\n    <tr>\n      <th>52</th>\n      <td>Dark - Street Lights On</td>\n      <td>Clear</td>\n      <td>Oil</td>\n      <td>1.600000</td>\n    </tr>\n    <tr>\n      <th>110</th>\n      <td>Dawn</td>\n      <td>Fog/Smog/Smoke</td>\n      <td>Dry</td>\n      <td>1.583333</td>\n    </tr>\n    <tr>\n      <th>...</th>\n      <td>...</td>\n      <td>...</td>\n      <td>...</td>\n      <td>...</td>\n    </tr>\n    <tr>\n      <th>124</th>\n      <td>Dawn</td>\n      <td>Raining</td>\n      <td>Snow/Slush</td>\n      <td>1.000000</td>\n    </tr>\n    <tr>\n      <th>123</th>\n      <td>Dawn</td>\n      <td>Raining</td>\n      <td>Sand/Mud/Dirt</td>\n      <td>1.000000</td>\n    </tr>\n    <tr>\n      <th>96</th>\n      <td>Dark - Street Lights On</td>\n      <td>Snowing</td>\n      <td>Sand/Mud/Dirt</td>\n      <td>1.000000</td>\n    </tr>\n    <tr>\n      <th>118</th>\n      <td>Dawn</td>\n      <td>Overcast</td>\n      <td>Snow/Slush</td>\n      <td>1.000000</td>\n    </tr>\n    <tr>\n      <th>117</th>\n      <td>Dawn</td>\n      <td>Overcast</td>\n      <td>Other</td>\n      <td>1.000000</td>\n    </tr>\n    <tr>\n      <th>102</th>\n      <td>Dark - Unknown Lighting</td>\n      <td>Overcast</td>\n      <td>Dry</td>\n      <td>1.000000</td>\n    </tr>\n    <tr>\n      <th>114</th>\n      <td>Dawn</td>\n      <td>Other</td>\n      <td>Ice</td>\n      <td>1.000000</td>\n    </tr>\n    <tr>\n      <th>107</th>\n      <td>Dawn</td>\n      <td>Clear</td>\n      <td>Sand/Mud/Dirt</td>\n      <td>1.000000</td>\n    </tr>\n    <tr>\n      <th>111</th>\n      <td>Dawn</td>\n      <td>Fog/Smog/Smoke</td>\n      <td>Ice</td>\n      <td>1.000000</td>\n    </tr>\n    <tr>\n      <th>73</th>\n      <td>Dark - Street Lights On</td>\n      <td>Overcast</td>\n      <td>Sand/Mud/Dirt</td>\n      <td>1.000000</td>\n    </tr>\n    <tr>\n      <th>140</th>\n      <td>Daylight</td>\n      <td>Clear</td>\n      <td>Standing Water</td>\n      <td>1.000000</td>\n    </tr>\n    <tr>\n      <th>71</th>\n      <td>Dark - Street Lights On</td>\n      <td>Overcast</td>\n      <td>Oil</td>\n      <td>1.000000</td>\n    </tr>\n    <tr>\n      <th>45</th>\n      <td>Dark - Street Lights Off</td>\n      <td>Snowing</td>\n      <td>Wet</td>\n      <td>1.000000</td>\n    </tr>\n    <tr>\n      <th>31</th>\n      <td>Dark - Street Lights Off</td>\n      <td>Fog/Smog/Smoke</td>\n      <td>Dry</td>\n      <td>1.000000</td>\n    </tr>\n    <tr>\n      <th>33</th>\n      <td>Dark - Street Lights Off</td>\n      <td>Other</td>\n      <td>Wet</td>\n      <td>1.000000</td>\n    </tr>\n    <tr>\n      <th>37</th>\n      <td>Dark - Street Lights Off</td>\n      <td>Raining</td>\n      <td>Dry</td>\n      <td>1.000000</td>\n    </tr>\n    <tr>\n      <th>40</th>\n      <td>Dark - Street Lights Off</td>\n      <td>Severe Crosswind</td>\n      <td>Ice</td>\n      <td>1.000000</td>\n    </tr>\n    <tr>\n      <th>41</th>\n      <td>Dark - Street Lights Off</td>\n      <td>Severe Crosswind</td>\n      <td>Wet</td>\n      <td>1.000000</td>\n    </tr>\n    <tr>\n      <th>42</th>\n      <td>Dark - Street Lights Off</td>\n      <td>Sleet/Hail/Freezing Rain</td>\n      <td>Ice</td>\n      <td>1.000000</td>\n    </tr>\n    <tr>\n      <th>43</th>\n      <td>Dark - Street Lights Off</td>\n      <td>Snowing</td>\n      <td>Ice</td>\n      <td>1.000000</td>\n    </tr>\n    <tr>\n      <th>47</th>\n      <td>Dark - Street Lights On</td>\n      <td>Blowing Sand/Dirt</td>\n      <td>Ice</td>\n      <td>1.000000</td>\n    </tr>\n    <tr>\n      <th>144</th>\n      <td>Daylight</td>\n      <td>Fog/Smog/Smoke</td>\n      <td>Snow/Slush</td>\n      <td>1.000000</td>\n    </tr>\n    <tr>\n      <th>48</th>\n      <td>Dark - Street Lights On</td>\n      <td>Blowing Sand/Dirt</td>\n      <td>Snow/Slush</td>\n      <td>1.000000</td>\n    </tr>\n    <tr>\n      <th>60</th>\n      <td>Dark - Street Lights On</td>\n      <td>Fog/Smog/Smoke</td>\n      <td>Other</td>\n      <td>1.000000</td>\n    </tr>\n    <tr>\n      <th>61</th>\n      <td>Dark - Street Lights On</td>\n      <td>Fog/Smog/Smoke</td>\n      <td>Sand/Mud/Dirt</td>\n      <td>1.000000</td>\n    </tr>\n    <tr>\n      <th>149</th>\n      <td>Daylight</td>\n      <td>Other</td>\n      <td>Snow/Slush</td>\n      <td>1.000000</td>\n    </tr>\n    <tr>\n      <th>147</th>\n      <td>Daylight</td>\n      <td>Other</td>\n      <td>Ice</td>\n      <td>1.000000</td>\n    </tr>\n    <tr>\n      <th>66</th>\n      <td>Dark - Street Lights On</td>\n      <td>Other</td>\n      <td>Sand/Mud/Dirt</td>\n      <td>1.000000</td>\n    </tr>\n    <tr>\n      <th>67</th>\n      <td>Dark - Street Lights On</td>\n      <td>Other</td>\n      <td>Snow/Slush</td>\n      <td>1.000000</td>\n    </tr>\n    <tr>\n      <th>0</th>\n      <td>Dark - No Street Lights</td>\n      <td>Blowing Sand/Dirt</td>\n      <td>Dry</td>\n      <td>1.000000</td>\n    </tr>\n  </tbody>\n</table>\n<p>220 rows \u00d7 4 columns</p>\n</div>",
                        "text/plain": "                    LIGHTCOND                   WEATHER        ROADCOND  \\\n19    Dark - No Street Lights                   Raining             Ice   \n88    Dark - Street Lights On  Sleet/Hail/Freezing Rain             Dry   \n183                      Dusk                     Clear             Oil   \n184                      Dusk                     Clear           Other   \n24    Dark - No Street Lights  Sleet/Hail/Freezing Rain             Wet   \n22    Dark - No Street Lights                   Raining  Standing Water   \n190                      Dusk                     Other             Ice   \n170                  Daylight  Sleet/Hail/Freezing Rain             Dry   \n17    Dark - No Street Lights             Partly Cloudy             Dry   \n195                      Dusk                  Overcast           Other   \n56    Dark - Street Lights On                     Clear  Standing Water   \n85    Dark - Street Lights On          Severe Crosswind             Dry   \n49    Dark - Street Lights On         Blowing Sand/Dirt             Wet   \n95    Dark - Street Lights On                   Snowing           Other   \n120                      Dawn             Partly Cloudy             Wet   \n8     Dark - No Street Lights            Fog/Smog/Smoke             Ice   \n208                     Other                     Clear      Snow/Slush   \n35   Dark - Street Lights Off                  Overcast             Ice   \n100   Dark - Unknown Lighting                     Clear             Wet   \n101   Dark - Unknown Lighting                     Other             Dry   \n104                      Dawn         Blowing Sand/Dirt             Dry   \n130                      Dawn                   Snowing             Wet   \n136                  Daylight                     Clear             Oil   \n163                  Daylight                   Raining           Other   \n188                      Dusk            Fog/Smog/Smoke             Dry   \n143                  Daylight            Fog/Smog/Smoke             Ice   \n64    Dark - Street Lights On                     Other             Ice   \n214                     Other                  Overcast             Wet   \n52    Dark - Street Lights On                     Clear             Oil   \n110                      Dawn            Fog/Smog/Smoke             Dry   \n..                        ...                       ...             ...   \n124                      Dawn                   Raining      Snow/Slush   \n123                      Dawn                   Raining   Sand/Mud/Dirt   \n96    Dark - Street Lights On                   Snowing   Sand/Mud/Dirt   \n118                      Dawn                  Overcast      Snow/Slush   \n117                      Dawn                  Overcast           Other   \n102   Dark - Unknown Lighting                  Overcast             Dry   \n114                      Dawn                     Other             Ice   \n107                      Dawn                     Clear   Sand/Mud/Dirt   \n111                      Dawn            Fog/Smog/Smoke             Ice   \n73    Dark - Street Lights On                  Overcast   Sand/Mud/Dirt   \n140                  Daylight                     Clear  Standing Water   \n71    Dark - Street Lights On                  Overcast             Oil   \n45   Dark - Street Lights Off                   Snowing             Wet   \n31   Dark - Street Lights Off            Fog/Smog/Smoke             Dry   \n33   Dark - Street Lights Off                     Other             Wet   \n37   Dark - Street Lights Off                   Raining             Dry   \n40   Dark - Street Lights Off          Severe Crosswind             Ice   \n41   Dark - Street Lights Off          Severe Crosswind             Wet   \n42   Dark - Street Lights Off  Sleet/Hail/Freezing Rain             Ice   \n43   Dark - Street Lights Off                   Snowing             Ice   \n47    Dark - Street Lights On         Blowing Sand/Dirt             Ice   \n144                  Daylight            Fog/Smog/Smoke      Snow/Slush   \n48    Dark - Street Lights On         Blowing Sand/Dirt      Snow/Slush   \n60    Dark - Street Lights On            Fog/Smog/Smoke           Other   \n61    Dark - Street Lights On            Fog/Smog/Smoke   Sand/Mud/Dirt   \n149                  Daylight                     Other      Snow/Slush   \n147                  Daylight                     Other             Ice   \n66    Dark - Street Lights On                     Other   Sand/Mud/Dirt   \n67    Dark - Street Lights On                     Other      Snow/Slush   \n0     Dark - No Street Lights         Blowing Sand/Dirt             Dry   \n\n     SEVERITYCODE  \n19       2.000000  \n88       2.000000  \n183      2.000000  \n184      2.000000  \n24       2.000000  \n22       2.000000  \n190      2.000000  \n170      2.000000  \n17       2.000000  \n195      2.000000  \n56       2.000000  \n85       2.000000  \n49       2.000000  \n95       2.000000  \n120      2.000000  \n8        2.000000  \n208      2.000000  \n35       2.000000  \n100      2.000000  \n101      2.000000  \n104      2.000000  \n130      1.750000  \n136      1.727273  \n163      1.666667  \n188      1.666667  \n143      1.666667  \n64       1.666667  \n214      1.600000  \n52       1.600000  \n110      1.583333  \n..            ...  \n124      1.000000  \n123      1.000000  \n96       1.000000  \n118      1.000000  \n117      1.000000  \n102      1.000000  \n114      1.000000  \n107      1.000000  \n111      1.000000  \n73       1.000000  \n140      1.000000  \n71       1.000000  \n45       1.000000  \n31       1.000000  \n33       1.000000  \n37       1.000000  \n40       1.000000  \n41       1.000000  \n42       1.000000  \n43       1.000000  \n47       1.000000  \n144      1.000000  \n48       1.000000  \n60       1.000000  \n61       1.000000  \n149      1.000000  \n147      1.000000  \n66       1.000000  \n67       1.000000  \n0        1.000000  \n\n[220 rows x 4 columns]"
                    },
                    "execution_count": 26,
                    "metadata": {},
                    "output_type": "execute_result"
                }
            ],
            "source": "df_grp = df_test.groupby (['LIGHTCOND', 'WEATHER', 'ROADCOND' ], as_index = False).mean()\ndf_sort = df_grp.sort_values('SEVERITYCODE', ascending=False)\ndf_sort"
        },
        {
            "cell_type": "markdown",
            "metadata": {},
            "source": "There were 220 unique combinations in total. Under 21 combinations of conditions, the average accident severity was 2.0. This means that the probability of injury under such conditions was 100%. However, such combinations were rare. Most of them only take one time."
        },
        {
            "cell_type": "markdown",
            "metadata": {},
            "source": "#### Turning categorical variables into quantitative variables"
        },
        {
            "cell_type": "markdown",
            "metadata": {},
            "source": "Most statistical models cannot take in objects or strings as input and for model training only take the numbers as inputs. In our dataset all input values are categorical values. For further analysis, we have to convert these variables into some form of numeric format. "
        },
        {
            "cell_type": "code",
            "execution_count": 27,
            "metadata": {},
            "outputs": [
                {
                    "data": {
                        "text/html": "<div>\n<style scoped>\n    .dataframe tbody tr th:only-of-type {\n        vertical-align: middle;\n    }\n\n    .dataframe tbody tr th {\n        vertical-align: top;\n    }\n\n    .dataframe thead th {\n        text-align: right;\n    }\n</style>\n<table border=\"1\" class=\"dataframe\">\n  <thead>\n    <tr style=\"text-align: right;\">\n      <th></th>\n      <th>Blowing Sand/Dirt</th>\n      <th>Clear</th>\n      <th>Fog/Smog/Smoke</th>\n      <th>Other</th>\n      <th>Overcast</th>\n      <th>Partly Cloudy</th>\n      <th>Raining</th>\n      <th>Severe Crosswind</th>\n      <th>Sleet/Hail/Freezing Rain</th>\n      <th>Snowing</th>\n    </tr>\n  </thead>\n  <tbody>\n    <tr>\n      <th>0</th>\n      <td>0</td>\n      <td>0</td>\n      <td>0</td>\n      <td>0</td>\n      <td>1</td>\n      <td>0</td>\n      <td>0</td>\n      <td>0</td>\n      <td>0</td>\n      <td>0</td>\n    </tr>\n    <tr>\n      <th>1</th>\n      <td>0</td>\n      <td>0</td>\n      <td>0</td>\n      <td>0</td>\n      <td>0</td>\n      <td>0</td>\n      <td>1</td>\n      <td>0</td>\n      <td>0</td>\n      <td>0</td>\n    </tr>\n    <tr>\n      <th>2</th>\n      <td>0</td>\n      <td>0</td>\n      <td>0</td>\n      <td>0</td>\n      <td>1</td>\n      <td>0</td>\n      <td>0</td>\n      <td>0</td>\n      <td>0</td>\n      <td>0</td>\n    </tr>\n    <tr>\n      <th>3</th>\n      <td>0</td>\n      <td>1</td>\n      <td>0</td>\n      <td>0</td>\n      <td>0</td>\n      <td>0</td>\n      <td>0</td>\n      <td>0</td>\n      <td>0</td>\n      <td>0</td>\n    </tr>\n    <tr>\n      <th>4</th>\n      <td>0</td>\n      <td>0</td>\n      <td>0</td>\n      <td>0</td>\n      <td>0</td>\n      <td>0</td>\n      <td>1</td>\n      <td>0</td>\n      <td>0</td>\n      <td>0</td>\n    </tr>\n  </tbody>\n</table>\n</div>",
                        "text/plain": "   Blowing Sand/Dirt  Clear  Fog/Smog/Smoke  Other  Overcast  Partly Cloudy  \\\n0                  0      0               0      0         1              0   \n1                  0      0               0      0         0              0   \n2                  0      0               0      0         1              0   \n3                  0      1               0      0         0              0   \n4                  0      0               0      0         0              0   \n\n   Raining  Severe Crosswind  Sleet/Hail/Freezing Rain  Snowing  \n0        0                 0                         0        0  \n1        1                 0                         0        0  \n2        0                 0                         0        0  \n3        0                 0                         0        0  \n4        1                 0                         0        0  "
                    },
                    "execution_count": 27,
                    "metadata": {},
                    "output_type": "execute_result"
                }
            ],
            "source": "dummy_variable_1 = pd.get_dummies(df[\"WEATHER\"])\ndummy_variable_1.head()"
        },
        {
            "cell_type": "code",
            "execution_count": 28,
            "metadata": {},
            "outputs": [
                {
                    "data": {
                        "text/html": "<div>\n<style scoped>\n    .dataframe tbody tr th:only-of-type {\n        vertical-align: middle;\n    }\n\n    .dataframe tbody tr th {\n        vertical-align: top;\n    }\n\n    .dataframe thead th {\n        text-align: right;\n    }\n</style>\n<table border=\"1\" class=\"dataframe\">\n  <thead>\n    <tr style=\"text-align: right;\">\n      <th></th>\n      <th>Dry</th>\n      <th>Ice</th>\n      <th>Oil</th>\n      <th>Other</th>\n      <th>Sand/Mud/Dirt</th>\n      <th>Snow/Slush</th>\n      <th>Standing Water</th>\n      <th>Wet</th>\n    </tr>\n  </thead>\n  <tbody>\n    <tr>\n      <th>0</th>\n      <td>0</td>\n      <td>0</td>\n      <td>0</td>\n      <td>0</td>\n      <td>0</td>\n      <td>0</td>\n      <td>0</td>\n      <td>1</td>\n    </tr>\n    <tr>\n      <th>1</th>\n      <td>0</td>\n      <td>0</td>\n      <td>0</td>\n      <td>0</td>\n      <td>0</td>\n      <td>0</td>\n      <td>0</td>\n      <td>1</td>\n    </tr>\n    <tr>\n      <th>2</th>\n      <td>1</td>\n      <td>0</td>\n      <td>0</td>\n      <td>0</td>\n      <td>0</td>\n      <td>0</td>\n      <td>0</td>\n      <td>0</td>\n    </tr>\n    <tr>\n      <th>3</th>\n      <td>1</td>\n      <td>0</td>\n      <td>0</td>\n      <td>0</td>\n      <td>0</td>\n      <td>0</td>\n      <td>0</td>\n      <td>0</td>\n    </tr>\n    <tr>\n      <th>4</th>\n      <td>0</td>\n      <td>0</td>\n      <td>0</td>\n      <td>0</td>\n      <td>0</td>\n      <td>0</td>\n      <td>0</td>\n      <td>1</td>\n    </tr>\n  </tbody>\n</table>\n</div>",
                        "text/plain": "   Dry  Ice  Oil  Other  Sand/Mud/Dirt  Snow/Slush  Standing Water  Wet\n0    0    0    0      0              0           0               0    1\n1    0    0    0      0              0           0               0    1\n2    1    0    0      0              0           0               0    0\n3    1    0    0      0              0           0               0    0\n4    0    0    0      0              0           0               0    1"
                    },
                    "execution_count": 28,
                    "metadata": {},
                    "output_type": "execute_result"
                }
            ],
            "source": "df = pd.concat([df, dummy_variable_1], axis=1)\n\ndf.drop(\"WEATHER\", axis = 1, inplace=True)\n\ndummy_variable_2 = pd.get_dummies(df[\"ROADCOND\"])\ndummy_variable_2.head()"
        },
        {
            "cell_type": "code",
            "execution_count": 29,
            "metadata": {},
            "outputs": [
                {
                    "data": {
                        "text/html": "<div>\n<style scoped>\n    .dataframe tbody tr th:only-of-type {\n        vertical-align: middle;\n    }\n\n    .dataframe tbody tr th {\n        vertical-align: top;\n    }\n\n    .dataframe thead th {\n        text-align: right;\n    }\n</style>\n<table border=\"1\" class=\"dataframe\">\n  <thead>\n    <tr style=\"text-align: right;\">\n      <th></th>\n      <th>Dark - No Street Lights</th>\n      <th>Dark - Street Lights Off</th>\n      <th>Dark - Street Lights On</th>\n      <th>Dark - Unknown Lighting</th>\n      <th>Dawn</th>\n      <th>Daylight</th>\n      <th>Dusk</th>\n      <th>Other</th>\n    </tr>\n  </thead>\n  <tbody>\n    <tr>\n      <th>0</th>\n      <td>0</td>\n      <td>0</td>\n      <td>0</td>\n      <td>0</td>\n      <td>0</td>\n      <td>1</td>\n      <td>0</td>\n      <td>0</td>\n    </tr>\n    <tr>\n      <th>1</th>\n      <td>0</td>\n      <td>0</td>\n      <td>1</td>\n      <td>0</td>\n      <td>0</td>\n      <td>0</td>\n      <td>0</td>\n      <td>0</td>\n    </tr>\n    <tr>\n      <th>2</th>\n      <td>0</td>\n      <td>0</td>\n      <td>0</td>\n      <td>0</td>\n      <td>0</td>\n      <td>1</td>\n      <td>0</td>\n      <td>0</td>\n    </tr>\n    <tr>\n      <th>3</th>\n      <td>0</td>\n      <td>0</td>\n      <td>0</td>\n      <td>0</td>\n      <td>0</td>\n      <td>1</td>\n      <td>0</td>\n      <td>0</td>\n    </tr>\n    <tr>\n      <th>4</th>\n      <td>0</td>\n      <td>0</td>\n      <td>0</td>\n      <td>0</td>\n      <td>0</td>\n      <td>1</td>\n      <td>0</td>\n      <td>0</td>\n    </tr>\n  </tbody>\n</table>\n</div>",
                        "text/plain": "   Dark - No Street Lights  Dark - Street Lights Off  Dark - Street Lights On  \\\n0                        0                         0                        0   \n1                        0                         0                        1   \n2                        0                         0                        0   \n3                        0                         0                        0   \n4                        0                         0                        0   \n\n   Dark - Unknown Lighting  Dawn  Daylight  Dusk  Other  \n0                        0     0         1     0      0  \n1                        0     0         0     0      0  \n2                        0     0         1     0      0  \n3                        0     0         1     0      0  \n4                        0     0         1     0      0  "
                    },
                    "execution_count": 29,
                    "metadata": {},
                    "output_type": "execute_result"
                }
            ],
            "source": "df = pd.concat([df, dummy_variable_2], axis=1)\n\ndf.drop(\"ROADCOND\", axis = 1, inplace=True)\n\n\ndummy_variable_3 = pd.get_dummies(df[\"LIGHTCOND\"])\ndummy_variable_3.head()"
        },
        {
            "cell_type": "code",
            "execution_count": 30,
            "metadata": {},
            "outputs": [
                {
                    "data": {
                        "text/html": "<div>\n<style scoped>\n    .dataframe tbody tr th:only-of-type {\n        vertical-align: middle;\n    }\n\n    .dataframe tbody tr th {\n        vertical-align: top;\n    }\n\n    .dataframe thead th {\n        text-align: right;\n    }\n</style>\n<table border=\"1\" class=\"dataframe\">\n  <thead>\n    <tr style=\"text-align: right;\">\n      <th></th>\n      <th>SEVERITYCODE</th>\n      <th>SEVERITYDESC</th>\n      <th>Blowing Sand/Dirt</th>\n      <th>Clear</th>\n      <th>Fog/Smog/Smoke</th>\n      <th>Other</th>\n      <th>Overcast</th>\n      <th>Partly Cloudy</th>\n      <th>Raining</th>\n      <th>Severe Crosswind</th>\n      <th>...</th>\n      <th>Standing Water</th>\n      <th>Wet</th>\n      <th>Dark - No Street Lights</th>\n      <th>Dark - Street Lights Off</th>\n      <th>Dark - Street Lights On</th>\n      <th>Dark - Unknown Lighting</th>\n      <th>Dawn</th>\n      <th>Daylight</th>\n      <th>Dusk</th>\n      <th>Other</th>\n    </tr>\n  </thead>\n  <tbody>\n    <tr>\n      <th>0</th>\n      <td>2</td>\n      <td>Injury Collision</td>\n      <td>0</td>\n      <td>0</td>\n      <td>0</td>\n      <td>0</td>\n      <td>1</td>\n      <td>0</td>\n      <td>0</td>\n      <td>0</td>\n      <td>...</td>\n      <td>0</td>\n      <td>1</td>\n      <td>0</td>\n      <td>0</td>\n      <td>0</td>\n      <td>0</td>\n      <td>0</td>\n      <td>1</td>\n      <td>0</td>\n      <td>0</td>\n    </tr>\n    <tr>\n      <th>1</th>\n      <td>1</td>\n      <td>Property Damage Only Collision</td>\n      <td>0</td>\n      <td>0</td>\n      <td>0</td>\n      <td>0</td>\n      <td>0</td>\n      <td>0</td>\n      <td>1</td>\n      <td>0</td>\n      <td>...</td>\n      <td>0</td>\n      <td>1</td>\n      <td>0</td>\n      <td>0</td>\n      <td>1</td>\n      <td>0</td>\n      <td>0</td>\n      <td>0</td>\n      <td>0</td>\n      <td>0</td>\n    </tr>\n    <tr>\n      <th>2</th>\n      <td>1</td>\n      <td>Property Damage Only Collision</td>\n      <td>0</td>\n      <td>0</td>\n      <td>0</td>\n      <td>0</td>\n      <td>1</td>\n      <td>0</td>\n      <td>0</td>\n      <td>0</td>\n      <td>...</td>\n      <td>0</td>\n      <td>0</td>\n      <td>0</td>\n      <td>0</td>\n      <td>0</td>\n      <td>0</td>\n      <td>0</td>\n      <td>1</td>\n      <td>0</td>\n      <td>0</td>\n    </tr>\n    <tr>\n      <th>3</th>\n      <td>1</td>\n      <td>Property Damage Only Collision</td>\n      <td>0</td>\n      <td>1</td>\n      <td>0</td>\n      <td>0</td>\n      <td>0</td>\n      <td>0</td>\n      <td>0</td>\n      <td>0</td>\n      <td>...</td>\n      <td>0</td>\n      <td>0</td>\n      <td>0</td>\n      <td>0</td>\n      <td>0</td>\n      <td>0</td>\n      <td>0</td>\n      <td>1</td>\n      <td>0</td>\n      <td>0</td>\n    </tr>\n    <tr>\n      <th>4</th>\n      <td>2</td>\n      <td>Injury Collision</td>\n      <td>0</td>\n      <td>0</td>\n      <td>0</td>\n      <td>0</td>\n      <td>0</td>\n      <td>0</td>\n      <td>1</td>\n      <td>0</td>\n      <td>...</td>\n      <td>0</td>\n      <td>1</td>\n      <td>0</td>\n      <td>0</td>\n      <td>0</td>\n      <td>0</td>\n      <td>0</td>\n      <td>1</td>\n      <td>0</td>\n      <td>0</td>\n    </tr>\n    <tr>\n      <th>5</th>\n      <td>1</td>\n      <td>Property Damage Only Collision</td>\n      <td>0</td>\n      <td>1</td>\n      <td>0</td>\n      <td>0</td>\n      <td>0</td>\n      <td>0</td>\n      <td>0</td>\n      <td>0</td>\n      <td>...</td>\n      <td>0</td>\n      <td>0</td>\n      <td>0</td>\n      <td>0</td>\n      <td>0</td>\n      <td>0</td>\n      <td>0</td>\n      <td>1</td>\n      <td>0</td>\n      <td>0</td>\n    </tr>\n    <tr>\n      <th>6</th>\n      <td>1</td>\n      <td>Property Damage Only Collision</td>\n      <td>0</td>\n      <td>0</td>\n      <td>0</td>\n      <td>0</td>\n      <td>0</td>\n      <td>0</td>\n      <td>1</td>\n      <td>0</td>\n      <td>...</td>\n      <td>0</td>\n      <td>1</td>\n      <td>0</td>\n      <td>0</td>\n      <td>0</td>\n      <td>0</td>\n      <td>0</td>\n      <td>1</td>\n      <td>0</td>\n      <td>0</td>\n    </tr>\n    <tr>\n      <th>7</th>\n      <td>2</td>\n      <td>Injury Collision</td>\n      <td>0</td>\n      <td>1</td>\n      <td>0</td>\n      <td>0</td>\n      <td>0</td>\n      <td>0</td>\n      <td>0</td>\n      <td>0</td>\n      <td>...</td>\n      <td>0</td>\n      <td>0</td>\n      <td>0</td>\n      <td>0</td>\n      <td>0</td>\n      <td>0</td>\n      <td>0</td>\n      <td>1</td>\n      <td>0</td>\n      <td>0</td>\n    </tr>\n    <tr>\n      <th>8</th>\n      <td>1</td>\n      <td>Property Damage Only Collision</td>\n      <td>0</td>\n      <td>1</td>\n      <td>0</td>\n      <td>0</td>\n      <td>0</td>\n      <td>0</td>\n      <td>0</td>\n      <td>0</td>\n      <td>...</td>\n      <td>0</td>\n      <td>0</td>\n      <td>0</td>\n      <td>0</td>\n      <td>0</td>\n      <td>0</td>\n      <td>0</td>\n      <td>1</td>\n      <td>0</td>\n      <td>0</td>\n    </tr>\n    <tr>\n      <th>9</th>\n      <td>2</td>\n      <td>Injury Collision</td>\n      <td>0</td>\n      <td>1</td>\n      <td>0</td>\n      <td>0</td>\n      <td>0</td>\n      <td>0</td>\n      <td>0</td>\n      <td>0</td>\n      <td>...</td>\n      <td>0</td>\n      <td>0</td>\n      <td>0</td>\n      <td>0</td>\n      <td>0</td>\n      <td>0</td>\n      <td>0</td>\n      <td>1</td>\n      <td>0</td>\n      <td>0</td>\n    </tr>\n  </tbody>\n</table>\n<p>10 rows \u00d7 28 columns</p>\n</div>",
                        "text/plain": "   SEVERITYCODE                    SEVERITYDESC  Blowing Sand/Dirt  Clear  \\\n0             2                Injury Collision                  0      0   \n1             1  Property Damage Only Collision                  0      0   \n2             1  Property Damage Only Collision                  0      0   \n3             1  Property Damage Only Collision                  0      1   \n4             2                Injury Collision                  0      0   \n5             1  Property Damage Only Collision                  0      1   \n6             1  Property Damage Only Collision                  0      0   \n7             2                Injury Collision                  0      1   \n8             1  Property Damage Only Collision                  0      1   \n9             2                Injury Collision                  0      1   \n\n   Fog/Smog/Smoke  Other  Overcast  Partly Cloudy  Raining  Severe Crosswind  \\\n0               0      0         1              0        0                 0   \n1               0      0         0              0        1                 0   \n2               0      0         1              0        0                 0   \n3               0      0         0              0        0                 0   \n4               0      0         0              0        1                 0   \n5               0      0         0              0        0                 0   \n6               0      0         0              0        1                 0   \n7               0      0         0              0        0                 0   \n8               0      0         0              0        0                 0   \n9               0      0         0              0        0                 0   \n\n   ...  Standing Water  Wet  Dark - No Street Lights  \\\n0  ...               0    1                        0   \n1  ...               0    1                        0   \n2  ...               0    0                        0   \n3  ...               0    0                        0   \n4  ...               0    1                        0   \n5  ...               0    0                        0   \n6  ...               0    1                        0   \n7  ...               0    0                        0   \n8  ...               0    0                        0   \n9  ...               0    0                        0   \n\n   Dark - Street Lights Off  Dark - Street Lights On  Dark - Unknown Lighting  \\\n0                         0                        0                        0   \n1                         0                        1                        0   \n2                         0                        0                        0   \n3                         0                        0                        0   \n4                         0                        0                        0   \n5                         0                        0                        0   \n6                         0                        0                        0   \n7                         0                        0                        0   \n8                         0                        0                        0   \n9                         0                        0                        0   \n\n   Dawn  Daylight  Dusk  Other  \n0     0         1     0      0  \n1     0         0     0      0  \n2     0         1     0      0  \n3     0         1     0      0  \n4     0         1     0      0  \n5     0         1     0      0  \n6     0         1     0      0  \n7     0         1     0      0  \n8     0         1     0      0  \n9     0         1     0      0  \n\n[10 rows x 28 columns]"
                    },
                    "execution_count": 30,
                    "metadata": {},
                    "output_type": "execute_result"
                }
            ],
            "source": "df = pd.concat([df, dummy_variable_3], axis=1)\n\ndf.drop(\"LIGHTCOND\", axis = 1, inplace=True)\n\ndf.head(10)"
        },
        {
            "cell_type": "markdown",
            "metadata": {},
            "source": "After one-hot-encoding is our dataset ready to be used for machine learning algorithms. "
        },
        {
            "cell_type": "markdown",
            "metadata": {},
            "source": "#### Feature selection"
        },
        {
            "cell_type": "markdown",
            "metadata": {},
            "source": "Lets defind lable set, Y:"
        },
        {
            "cell_type": "code",
            "execution_count": 31,
            "metadata": {},
            "outputs": [
                {
                    "data": {
                        "text/plain": "array([2, 1, 1, 1, 2])"
                    },
                    "execution_count": 31,
                    "metadata": {},
                    "output_type": "execute_result"
                }
            ],
            "source": "y = df['SEVERITYCODE'].values\ny[0:5]"
        },
        {
            "cell_type": "markdown",
            "metadata": {},
            "source": "Lets defind feature sets, X:"
        },
        {
            "cell_type": "code",
            "execution_count": 32,
            "metadata": {},
            "outputs": [
                {
                    "data": {
                        "text/html": "<div>\n<style scoped>\n    .dataframe tbody tr th:only-of-type {\n        vertical-align: middle;\n    }\n\n    .dataframe tbody tr th {\n        vertical-align: top;\n    }\n\n    .dataframe thead th {\n        text-align: right;\n    }\n</style>\n<table border=\"1\" class=\"dataframe\">\n  <thead>\n    <tr style=\"text-align: right;\">\n      <th></th>\n      <th>Blowing Sand/Dirt</th>\n      <th>Clear</th>\n      <th>Fog/Smog/Smoke</th>\n      <th>Other</th>\n      <th>Overcast</th>\n      <th>Partly Cloudy</th>\n      <th>Raining</th>\n      <th>Severe Crosswind</th>\n      <th>Sleet/Hail/Freezing Rain</th>\n      <th>Snowing</th>\n      <th>...</th>\n      <th>Standing Water</th>\n      <th>Wet</th>\n      <th>Dark - No Street Lights</th>\n      <th>Dark - Street Lights Off</th>\n      <th>Dark - Street Lights On</th>\n      <th>Dark - Unknown Lighting</th>\n      <th>Dawn</th>\n      <th>Daylight</th>\n      <th>Dusk</th>\n      <th>Other</th>\n    </tr>\n  </thead>\n  <tbody>\n    <tr>\n      <th>0</th>\n      <td>0</td>\n      <td>0</td>\n      <td>0</td>\n      <td>0</td>\n      <td>1</td>\n      <td>0</td>\n      <td>0</td>\n      <td>0</td>\n      <td>0</td>\n      <td>0</td>\n      <td>...</td>\n      <td>0</td>\n      <td>1</td>\n      <td>0</td>\n      <td>0</td>\n      <td>0</td>\n      <td>0</td>\n      <td>0</td>\n      <td>1</td>\n      <td>0</td>\n      <td>0</td>\n    </tr>\n    <tr>\n      <th>1</th>\n      <td>0</td>\n      <td>0</td>\n      <td>0</td>\n      <td>0</td>\n      <td>0</td>\n      <td>0</td>\n      <td>1</td>\n      <td>0</td>\n      <td>0</td>\n      <td>0</td>\n      <td>...</td>\n      <td>0</td>\n      <td>1</td>\n      <td>0</td>\n      <td>0</td>\n      <td>1</td>\n      <td>0</td>\n      <td>0</td>\n      <td>0</td>\n      <td>0</td>\n      <td>0</td>\n    </tr>\n    <tr>\n      <th>2</th>\n      <td>0</td>\n      <td>0</td>\n      <td>0</td>\n      <td>0</td>\n      <td>1</td>\n      <td>0</td>\n      <td>0</td>\n      <td>0</td>\n      <td>0</td>\n      <td>0</td>\n      <td>...</td>\n      <td>0</td>\n      <td>0</td>\n      <td>0</td>\n      <td>0</td>\n      <td>0</td>\n      <td>0</td>\n      <td>0</td>\n      <td>1</td>\n      <td>0</td>\n      <td>0</td>\n    </tr>\n    <tr>\n      <th>3</th>\n      <td>0</td>\n      <td>1</td>\n      <td>0</td>\n      <td>0</td>\n      <td>0</td>\n      <td>0</td>\n      <td>0</td>\n      <td>0</td>\n      <td>0</td>\n      <td>0</td>\n      <td>...</td>\n      <td>0</td>\n      <td>0</td>\n      <td>0</td>\n      <td>0</td>\n      <td>0</td>\n      <td>0</td>\n      <td>0</td>\n      <td>1</td>\n      <td>0</td>\n      <td>0</td>\n    </tr>\n    <tr>\n      <th>4</th>\n      <td>0</td>\n      <td>0</td>\n      <td>0</td>\n      <td>0</td>\n      <td>0</td>\n      <td>0</td>\n      <td>1</td>\n      <td>0</td>\n      <td>0</td>\n      <td>0</td>\n      <td>...</td>\n      <td>0</td>\n      <td>1</td>\n      <td>0</td>\n      <td>0</td>\n      <td>0</td>\n      <td>0</td>\n      <td>0</td>\n      <td>1</td>\n      <td>0</td>\n      <td>0</td>\n    </tr>\n  </tbody>\n</table>\n<p>5 rows \u00d7 26 columns</p>\n</div>",
                        "text/plain": "   Blowing Sand/Dirt  Clear  Fog/Smog/Smoke  Other  Overcast  Partly Cloudy  \\\n0                  0      0               0      0         1              0   \n1                  0      0               0      0         0              0   \n2                  0      0               0      0         1              0   \n3                  0      1               0      0         0              0   \n4                  0      0               0      0         0              0   \n\n   Raining  Severe Crosswind  Sleet/Hail/Freezing Rain  Snowing  ...  \\\n0        0                 0                         0        0  ...   \n1        1                 0                         0        0  ...   \n2        0                 0                         0        0  ...   \n3        0                 0                         0        0  ...   \n4        1                 0                         0        0  ...   \n\n   Standing Water  Wet  Dark - No Street Lights  Dark - Street Lights Off  \\\n0               0    1                        0                         0   \n1               0    1                        0                         0   \n2               0    0                        0                         0   \n3               0    0                        0                         0   \n4               0    1                        0                         0   \n\n   Dark - Street Lights On  Dark - Unknown Lighting  Dawn  Daylight  Dusk  \\\n0                        0                        0     0         1     0   \n1                        1                        0     0         0     0   \n2                        0                        0     0         1     0   \n3                        0                        0     0         1     0   \n4                        0                        0     0         1     0   \n\n   Other  \n0      0  \n1      0  \n2      0  \n3      0  \n4      0  \n\n[5 rows x 26 columns]"
                    },
                    "execution_count": 32,
                    "metadata": {},
                    "output_type": "execute_result"
                }
            ],
            "source": "Feature = df\nFeature.drop(['SEVERITYCODE', 'SEVERITYDESC'], axis = 1,inplace=True)\nFeature.head()"
        },
        {
            "cell_type": "code",
            "execution_count": 33,
            "metadata": {},
            "outputs": [
                {
                    "data": {
                        "text/html": "<div>\n<style scoped>\n    .dataframe tbody tr th:only-of-type {\n        vertical-align: middle;\n    }\n\n    .dataframe tbody tr th {\n        vertical-align: top;\n    }\n\n    .dataframe thead th {\n        text-align: right;\n    }\n</style>\n<table border=\"1\" class=\"dataframe\">\n  <thead>\n    <tr style=\"text-align: right;\">\n      <th></th>\n      <th>Blowing Sand/Dirt</th>\n      <th>Clear</th>\n      <th>Fog/Smog/Smoke</th>\n      <th>Other</th>\n      <th>Overcast</th>\n      <th>Partly Cloudy</th>\n      <th>Raining</th>\n      <th>Severe Crosswind</th>\n      <th>Sleet/Hail/Freezing Rain</th>\n      <th>Snowing</th>\n      <th>...</th>\n      <th>Standing Water</th>\n      <th>Wet</th>\n      <th>Dark - No Street Lights</th>\n      <th>Dark - Street Lights Off</th>\n      <th>Dark - Street Lights On</th>\n      <th>Dark - Unknown Lighting</th>\n      <th>Dawn</th>\n      <th>Daylight</th>\n      <th>Dusk</th>\n      <th>Other</th>\n    </tr>\n  </thead>\n  <tbody>\n    <tr>\n      <th>0</th>\n      <td>0</td>\n      <td>0</td>\n      <td>0</td>\n      <td>0</td>\n      <td>1</td>\n      <td>0</td>\n      <td>0</td>\n      <td>0</td>\n      <td>0</td>\n      <td>0</td>\n      <td>...</td>\n      <td>0</td>\n      <td>1</td>\n      <td>0</td>\n      <td>0</td>\n      <td>0</td>\n      <td>0</td>\n      <td>0</td>\n      <td>1</td>\n      <td>0</td>\n      <td>0</td>\n    </tr>\n    <tr>\n      <th>1</th>\n      <td>0</td>\n      <td>0</td>\n      <td>0</td>\n      <td>0</td>\n      <td>0</td>\n      <td>0</td>\n      <td>1</td>\n      <td>0</td>\n      <td>0</td>\n      <td>0</td>\n      <td>...</td>\n      <td>0</td>\n      <td>1</td>\n      <td>0</td>\n      <td>0</td>\n      <td>1</td>\n      <td>0</td>\n      <td>0</td>\n      <td>0</td>\n      <td>0</td>\n      <td>0</td>\n    </tr>\n    <tr>\n      <th>2</th>\n      <td>0</td>\n      <td>0</td>\n      <td>0</td>\n      <td>0</td>\n      <td>1</td>\n      <td>0</td>\n      <td>0</td>\n      <td>0</td>\n      <td>0</td>\n      <td>0</td>\n      <td>...</td>\n      <td>0</td>\n      <td>0</td>\n      <td>0</td>\n      <td>0</td>\n      <td>0</td>\n      <td>0</td>\n      <td>0</td>\n      <td>1</td>\n      <td>0</td>\n      <td>0</td>\n    </tr>\n    <tr>\n      <th>3</th>\n      <td>0</td>\n      <td>1</td>\n      <td>0</td>\n      <td>0</td>\n      <td>0</td>\n      <td>0</td>\n      <td>0</td>\n      <td>0</td>\n      <td>0</td>\n      <td>0</td>\n      <td>...</td>\n      <td>0</td>\n      <td>0</td>\n      <td>0</td>\n      <td>0</td>\n      <td>0</td>\n      <td>0</td>\n      <td>0</td>\n      <td>1</td>\n      <td>0</td>\n      <td>0</td>\n    </tr>\n    <tr>\n      <th>4</th>\n      <td>0</td>\n      <td>0</td>\n      <td>0</td>\n      <td>0</td>\n      <td>0</td>\n      <td>0</td>\n      <td>1</td>\n      <td>0</td>\n      <td>0</td>\n      <td>0</td>\n      <td>...</td>\n      <td>0</td>\n      <td>1</td>\n      <td>0</td>\n      <td>0</td>\n      <td>0</td>\n      <td>0</td>\n      <td>0</td>\n      <td>1</td>\n      <td>0</td>\n      <td>0</td>\n    </tr>\n  </tbody>\n</table>\n<p>5 rows \u00d7 26 columns</p>\n</div>",
                        "text/plain": "   Blowing Sand/Dirt  Clear  Fog/Smog/Smoke  Other  Overcast  Partly Cloudy  \\\n0                  0      0               0      0         1              0   \n1                  0      0               0      0         0              0   \n2                  0      0               0      0         1              0   \n3                  0      1               0      0         0              0   \n4                  0      0               0      0         0              0   \n\n   Raining  Severe Crosswind  Sleet/Hail/Freezing Rain  Snowing  ...  \\\n0        0                 0                         0        0  ...   \n1        1                 0                         0        0  ...   \n2        0                 0                         0        0  ...   \n3        0                 0                         0        0  ...   \n4        1                 0                         0        0  ...   \n\n   Standing Water  Wet  Dark - No Street Lights  Dark - Street Lights Off  \\\n0               0    1                        0                         0   \n1               0    1                        0                         0   \n2               0    0                        0                         0   \n3               0    0                        0                         0   \n4               0    1                        0                         0   \n\n   Dark - Street Lights On  Dark - Unknown Lighting  Dawn  Daylight  Dusk  \\\n0                        0                        0     0         1     0   \n1                        1                        0     0         0     0   \n2                        0                        0     0         1     0   \n3                        0                        0     0         1     0   \n4                        0                        0     0         1     0   \n\n   Other  \n0      0  \n1      0  \n2      0  \n3      0  \n4      0  \n\n[5 rows x 26 columns]"
                    },
                    "execution_count": 33,
                    "metadata": {},
                    "output_type": "execute_result"
                }
            ],
            "source": "X = Feature\nX[0:5]"
        },
        {
            "cell_type": "markdown",
            "metadata": {},
            "source": "#### Feature Scaling"
        },
        {
            "cell_type": "markdown",
            "metadata": {},
            "source": "Data Standardization give data zero mean and unit variance"
        },
        {
            "cell_type": "code",
            "execution_count": 34,
            "metadata": {},
            "outputs": [
                {
                    "name": "stderr",
                    "output_type": "stream",
                    "text": "/opt/conda/envs/Python36/lib/python3.6/site-packages/sklearn/preprocessing/data.py:645: DataConversionWarning: Data with input dtype uint8 were all converted to float64 by StandardScaler.\n  return self.partial_fit(X, y)\n/opt/conda/envs/Python36/lib/python3.6/site-packages/ipykernel/__main__.py:3: DataConversionWarning: Data with input dtype uint8 were all converted to float64 by StandardScaler.\n  app.launch_new_instance()\n"
                },
                {
                    "data": {
                        "text/plain": "array([[-0.01720594, -1.27938986, -0.0536354 , -0.04117201,  2.3625326 ,\n        -0.00615992, -0.46705511, -0.01232054, -0.0246467 , -0.06694862,\n        -1.51494522, -0.07175446, -0.02061903, -0.02370389, -0.0194827 ,\n        -0.06567873, -0.01986869,  1.71147743, -0.08792853, -0.07656525,\n        -0.56739521, -0.00826453, -0.11748153,  0.72350341, -0.1852897 ,\n        -0.03508379],\n       [-0.01720594, -1.27938986, -0.0536354 , -0.04117201, -0.42327458,\n        -0.00615992,  2.14107498, -0.01232054, -0.0246467 , -0.06694862,\n        -1.51494522, -0.07175446, -0.02061903, -0.02370389, -0.0194827 ,\n        -0.06567873, -0.01986869,  1.71147743, -0.08792853, -0.07656525,\n         1.76243998, -0.00826453, -0.11748153, -1.38216349, -0.1852897 ,\n        -0.03508379],\n       [-0.01720594, -1.27938986, -0.0536354 , -0.04117201,  2.3625326 ,\n        -0.00615992, -0.46705511, -0.01232054, -0.0246467 , -0.06694862,\n         0.66008988, -0.07175446, -0.02061903, -0.02370389, -0.0194827 ,\n        -0.06567873, -0.01986869, -0.5842905 , -0.08792853, -0.07656525,\n        -0.56739521, -0.00826453, -0.11748153,  0.72350341, -0.1852897 ,\n        -0.03508379],\n       [-0.01720594,  0.78162258, -0.0536354 , -0.04117201, -0.42327458,\n        -0.00615992, -0.46705511, -0.01232054, -0.0246467 , -0.06694862,\n         0.66008988, -0.07175446, -0.02061903, -0.02370389, -0.0194827 ,\n        -0.06567873, -0.01986869, -0.5842905 , -0.08792853, -0.07656525,\n        -0.56739521, -0.00826453, -0.11748153,  0.72350341, -0.1852897 ,\n        -0.03508379],\n       [-0.01720594, -1.27938986, -0.0536354 , -0.04117201, -0.42327458,\n        -0.00615992,  2.14107498, -0.01232054, -0.0246467 , -0.06694862,\n        -1.51494522, -0.07175446, -0.02061903, -0.02370389, -0.0194827 ,\n        -0.06567873, -0.01986869,  1.71147743, -0.08792853, -0.07656525,\n        -0.56739521, -0.00826453, -0.11748153,  0.72350341, -0.1852897 ,\n        -0.03508379]])"
                    },
                    "execution_count": 34,
                    "metadata": {},
                    "output_type": "execute_result"
                }
            ],
            "source": "from sklearn import preprocessing\n\nX= preprocessing.StandardScaler().fit(X).transform(X)\nX[0:5]"
        },
        {
            "cell_type": "markdown",
            "metadata": {},
            "source": "## Predictive Modeling"
        },
        {
            "cell_type": "markdown",
            "metadata": {},
            "source": "Our data is ready to be used for machine learning algorithms. As we found out in the previous steps, our target is composed of discrete values. This is a classification problem. That is, given the dataset with predefined labels, we need to build a model to be used to predict the class of a new or unknown case. This means that classification algorithms must be used to build models. For this we use the following algorithms:\n\n* K-Nearest Neighbor(KNN)\n* Decision Tree\n* Support Vector Machine\n* Logistic Regression"
        },
        {
            "cell_type": "markdown",
            "metadata": {},
            "source": "Let's split our data set into test and train set to perform the evaluation of the algorithms:"
        },
        {
            "cell_type": "code",
            "execution_count": 35,
            "metadata": {},
            "outputs": [
                {
                    "name": "stdout",
                    "output_type": "stream",
                    "text": "Train set:  (98832, 26) (98832,)\nTest set:  (32944, 26) (32944,)\n"
                }
            ],
            "source": "from sklearn.model_selection import train_test_split\nX_train, X_test, y_train, y_test = train_test_split( X, y, test_size=0.25, random_state=4 )\nprint ('Train set: ', X_train.shape, y_train.shape)\nprint ('Test set: ', X_test.shape, y_test.shape)"
        },
        {
            "cell_type": "markdown",
            "metadata": {},
            "source": "### K Nearest Neighbor(KNN)"
        },
        {
            "cell_type": "markdown",
            "metadata": {},
            "source": "The K-Nearest Neighbors algorithm is a classification algorithm that takes a bunch of labeled points and uses them to learn how to label other points. This algorithm classifies cases based on their similarity to other cases.\n\nFirst, we need to determine which value of K must be chosen for our algorithm. To do this, you need to try several options and see at what value of K the algorithm shows the best accuracy on the test set.\n\nAs a metric, we will use the Jacard similarity score.\n"
        },
        {
            "cell_type": "code",
            "execution_count": 36,
            "metadata": {},
            "outputs": [
                {
                    "name": "stdout",
                    "output_type": "stream",
                    "text": "Test set accuracy for k =  1 :  0.6203861097620204\nTest set accuracy for k =  2 :  0.6674356483729966\nTest set accuracy for k =  3 :  0.65441355026712\nTest set accuracy for k =  4 :  0.6563562408936376\nTest set accuracy for k =  5 :  0.633226080621661\nTest set accuracy for k =  6 :  0.6665250121418164\nTest set accuracy for k =  7 :  0.6663125303545411\nTest set accuracy for k =  8 :  0.6897765905779505\nTest set accuracy for k =  9 :  0.6671017484215639\nThe best accuracy was achieved by k =  8\n"
                }
            ],
            "source": "from sklearn.neighbors import KNeighborsClassifier\nfrom sklearn import metrics\nimport numpy as np\n\nKs = 10\nmean_acc = np.zeros((Ks-1))\n\nfor i in range (1, Ks):\n    \n    #Train model and predict\n    neigh = KNeighborsClassifier (n_neighbors = i).fit(X_train, y_train)\n    y_pred = neigh.predict(X_test)\n    \n    #mean_acc[i-1] = metrics.accuracy_score(y_test, y_pred)\n    mean_acc[i-1] = metrics.jaccard_similarity_score(y_test, y_pred)\n    print ('Test set accuracy for k = ', i,': ', mean_acc[i-1]) \n   \n\n#Finding the best k\nk = np.argmax(mean_acc, axis=0)+1\nprint ('The best accuracy was achieved by k = ', k)"
        },
        {
            "cell_type": "markdown",
            "metadata": {},
            "source": "Once we have chosen the K value, we can train the model."
        },
        {
            "cell_type": "code",
            "execution_count": 37,
            "metadata": {},
            "outputs": [],
            "source": "model_KNN = KNeighborsClassifier(n_neighbors = k).fit(X_train, y_train)"
        },
        {
            "cell_type": "code",
            "execution_count": 38,
            "metadata": {},
            "outputs": [],
            "source": "from sklearn.metrics import f1_score\nfrom sklearn.metrics import log_loss\nfrom sklearn.metrics import jaccard_similarity_score\n\ny_pred_KNN = model_KNN.predict(X_test)\n\nf1 = []\njac = []\nlgloss = []\n\n#print (\"F1_Score KNN = \", f1_score(y_test, y_pred_KNN, average='weighted'))\n#print (\"Jaccard KNN = \", jaccard_similarity_score(y_test, y_pred_KNN))\nf1.append(f1_score(y_test, y_pred_KNN, average='weighted'))\njac.append (jaccard_similarity_score(y_test, y_pred_KNN))\nlgloss.append (np.nan)"
        },
        {
            "cell_type": "markdown",
            "metadata": {},
            "source": "### Decision Tree"
        },
        {
            "cell_type": "markdown",
            "metadata": {},
            "source": "Decision trees are built by splitting the training set into distinct nodes, where one node contains all of or most of one category of the data. A decision tree can be constructed by considering the attributes one by one. "
        },
        {
            "cell_type": "code",
            "execution_count": 39,
            "metadata": {},
            "outputs": [],
            "source": "from sklearn.tree import DecisionTreeClassifier\n\nmodel_DT = DecisionTreeClassifier (criterion = \"entropy\", max_depth = 4)\nmodel_DT.fit (X_train, y_train)\n\ny_pred_DT = model_DT.predict (X_test)\n\n                 \n#print (\"F1_Score DT = \", f1_score(y_test, y_pred_DT, average='weighted'))\n#print (\"Jaccard DT = \", jaccard_similarity_score(y_test, y_pred_DT))\nf1.append(f1_score(y_test, y_pred_DT, average='weighted'))\njac.append (jaccard_similarity_score(y_test, y_pred_DT))\nlgloss.append (np.nan)"
        },
        {
            "cell_type": "markdown",
            "metadata": {},
            "source": "### Support Vector Machine"
        },
        {
            "cell_type": "markdown",
            "metadata": {},
            "source": "A Support Vector Machine is a supervised algorithm that can classify cases by finding a separator. SVM works by first mapping data to a high dimensional feature space so that data points can be categorized, even when the data are not otherwise linearly separable. Then, a separator is estimated for the data. The data should be transformed in such a way that a separator could be drawn as a hyperplane. Let's train the SVM algorithm with 'rbf' kernel:"
        },
        {
            "cell_type": "code",
            "execution_count": 40,
            "metadata": {},
            "outputs": [],
            "source": "from sklearn import svm\n\nmodel_SVM = svm.SVC(kernel = 'rbf', gamma='scale')\nmodel_SVM.fit (X_train, y_train)\n\ny_pred_SVM = model_SVM.predict (X_test)\n\n#print (\"F1_Score SVM = \", f1_score(y_test, y_pred_SVM, average='weighted'))\n#print (\"Jaccard SVM = \", jaccard_similarity_score(y_test, y_pred_SVM))\nf1.append(f1_score(y_test, y_pred_SVM, average='weighted'))\njac.append (jaccard_similarity_score(y_test, y_pred_SVM))\nlgloss.append (np.nan)"
        },
        {
            "cell_type": "markdown",
            "metadata": {},
            "source": "### Logistic Regression"
        },
        {
            "cell_type": "markdown",
            "metadata": {},
            "source": "A feature of logistic regression is that it can predict the probability of sample and we map the cases to a discrete class based on that probability. "
        },
        {
            "cell_type": "code",
            "execution_count": 41,
            "metadata": {},
            "outputs": [],
            "source": "from sklearn.linear_model import LogisticRegression\n\nmodel_LR = LogisticRegression (C = 0.1, solver = 'liblinear').fit(X_train, y_train)\n\ny_pred_LR = model_LR.predict (X_test)\ny_pred_prob_LR = model_LR.predict_proba(X_test)\n\n#print (\"F1_Score LR = \", f1_score(y_test, y_pred_LR, average='weighted'))\n#print (\"Jaccard LR = \", jaccard_similarity_score(y_test, y_pred_LR))\n#print (\"LogLoss LR= \", log_loss(y_test, y_pred_prob_LR))\nf1.append(f1_score(y_test, y_pred_LR, average='weighted'))\njac.append (jaccard_similarity_score(y_test, y_pred_LR))\nlgloss.append (log_loss(y_test, y_pred_prob_LR))"
        },
        {
            "cell_type": "markdown",
            "metadata": {},
            "source": "### Model Evaluation Results"
        },
        {
            "cell_type": "markdown",
            "metadata": {},
            "source": "After the models of the four classification algorithms have been obtained, we can compare them with each other using metrics such as the F1-Score and the Jacard similarity score.\n\nLet's present the result as a table:\n"
        },
        {
            "cell_type": "code",
            "execution_count": 42,
            "metadata": {},
            "outputs": [
                {
                    "data": {
                        "text/html": "<div>\n<style scoped>\n    .dataframe tbody tr th:only-of-type {\n        vertical-align: middle;\n    }\n\n    .dataframe tbody tr th {\n        vertical-align: top;\n    }\n\n    .dataframe thead th {\n        text-align: right;\n    }\n</style>\n<table border=\"1\" class=\"dataframe\">\n  <thead>\n    <tr style=\"text-align: right;\">\n      <th></th>\n      <th>Jaccard</th>\n      <th>F1-score</th>\n      <th>LogLoss</th>\n    </tr>\n    <tr>\n      <th>Algorithm</th>\n      <th></th>\n      <th></th>\n      <th></th>\n    </tr>\n  </thead>\n  <tbody>\n    <tr>\n      <th>KNN</th>\n      <td>0.689777</td>\n      <td>0.565658</td>\n      <td>NaN</td>\n    </tr>\n    <tr>\n      <th>Decision Tree</th>\n      <td>0.690991</td>\n      <td>0.564857</td>\n      <td>NaN</td>\n    </tr>\n    <tr>\n      <th>SVM</th>\n      <td>0.690869</td>\n      <td>0.565135</td>\n      <td>NaN</td>\n    </tr>\n    <tr>\n      <th>LogisticRegression</th>\n      <td>0.691021</td>\n      <td>0.564816</td>\n      <td>0.615403</td>\n    </tr>\n  </tbody>\n</table>\n</div>",
                        "text/plain": "                     Jaccard  F1-score   LogLoss\nAlgorithm                                       \nKNN                 0.689777  0.565658       NaN\nDecision Tree       0.690991  0.564857       NaN\nSVM                 0.690869  0.565135       NaN\nLogisticRegression  0.691021  0.564816  0.615403"
                    },
                    "execution_count": 42,
                    "metadata": {},
                    "output_type": "execute_result"
                }
            ],
            "source": "data = {'Algorithm':['KNN', 'Decision Tree', 'SVM', 'LogisticRegression'], 'Jaccard': jac ,'F1-score': f1, 'LogLoss': lgloss}\ndf_result = pd.DataFrame(data)\ndf_result = df_result.reset_index().set_index('Algorithm')\ndel df_result['index']\ndf_result"
        },
        {
            "cell_type": "markdown",
            "metadata": {},
            "source": "Among the individual models, the Logistic Regression model performed the best (~69.1% accuracy), though the differences between models were very small. \n\nThe accuracy of the models does not actually differ from the general distribution of data across classes. That is, if the models always predicted only the more common class, then the accuracy would actually be the same. \n\nThis confirmed fears that the severity of road accidents does not actually correlate with the parameters chosen.\n"
        },
        {
            "cell_type": "markdown",
            "metadata": {},
            "source": "## Conclusions"
        },
        {
            "cell_type": "markdown",
            "metadata": {},
            "source": "In this study, I analyzed the conditions that can affect the severity of road traffic accidents in order to create a navigation application that can alert drivers to potential \tdanger. This app can be very useful for drivers to change their route if possible or to drive more carefully and accurately. This will reduce the number of serious road accidents. The data source will be government agencies that are potential sponsors of this application.\n\nAn important factor was that the input parameters of the models could be collected in real time and could be applied to different regions. Of all the possible parameters, only three were selected that meet the task at hand: road conditions, lighting conditions and weather conditions. I have developed classification models to predict how severe (property damage only or injury collision) an accident is more likely to occur under the conditions that currently exist along a given route. \n\nI was able to achieve an accuracy of about 69% of the developed classification models. This is no different from class distribution of data. Unfortunately, as a result of preliminary analysis and analysis of final models, it was determined that the severity of road accidents does not actually depend on the parameters chosen.\n"
        },
        {
            "cell_type": "markdown",
            "metadata": {},
            "source": "## Future directions"
        },
        {
            "cell_type": "markdown",
            "metadata": {},
            "source": "It was not possible to create a reliable model from this dataset that could warn drivers about the severity of an accident based on real-time data. Therefore, it is necessary to try to look for other factors that could be obtained in real time and that would have an impact on the severity of accidents.\n\nThere are no fatal cases left in this dataset after preprocessing. Such cases must be considered without fail.\n\nIn addition, it may be worth trying to take into account the type of car body, because this can significantly affect the consequences of an accident. The user can set this parameter himself in the application, so there will be no problem to collect this information. It can be difficult to find statistics that take this factor into account. But it can improve the model and use it for the final product.\n"
        },
        {
            "cell_type": "code",
            "execution_count": null,
            "metadata": {},
            "outputs": [],
            "source": ""
        }
    ],
    "metadata": {
        "kernelspec": {
            "display_name": "Python 3.6",
            "language": "python",
            "name": "python3"
        },
        "language_info": {
            "codemirror_mode": {
                "name": "ipython",
                "version": 3
            },
            "file_extension": ".py",
            "mimetype": "text/x-python",
            "name": "python",
            "nbconvert_exporter": "python",
            "pygments_lexer": "ipython3",
            "version": "3.6.9"
        }
    },
    "nbformat": 4,
    "nbformat_minor": 1
}