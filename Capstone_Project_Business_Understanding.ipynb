{
    "cells": [
        {
            "cell_type": "markdown",
            "metadata": {
                "collapsed": true
            },
            "source": "## Business Understanding "
        },
        {
            "cell_type": "markdown",
            "metadata": {},
            "source": "#### Problem description"
        },
        {
            "cell_type": "markdown",
            "metadata": {},
            "source": "Throughout the world, roads are shared by cars, buses, trucks, motorcycles, mopeds, pedestrians, animals, taxis, and other travelers. Travel made possible by motor vehicles supports economic and social development in many countries. \n\nNowadays vehicles are involved in crashes that are responsible for millions of deaths and injuries. According to Centers for Disease Control and Prevention (CDC), National Center for Injury Prevention and Control (NCIPC). Web-based Injury Statistics Query and Reporting System (WISQARS): https://webappa.cdc.gov/cgi-bin/broker.exe road traffic crashes are a leading cause of death in the world and the leading cause of non-natural death or healthy citizens for all age groups.\n\nLow- and middle-income countries are most affected. The road traffic crash death rate is over three times higher in low-income countries than in high-income countries. According World Health Organization (WHO) Global Status Report on Road Safety 2018: https://www.who.int/violence_injury_prevention/road_safety_status/2018/en/ the road traffic crash death rate is over three times higher in low-income countries than in high-income countries. \n\nRoad traffic injuries place a huge economic burden on low- and middle-income countries. Each year, according to the latest available cost estimate (1998), road traffic injuries cost 518 billion dollars worldwide and $65 billion USD in low- and middle-income countries, which exceeds the total amount that these countries receive in development assistance (http://citeseerx.ist.psu.edu/viewdoc/download?doi=10.1.1.174.5207&rep=rep1&type=pdf).\n\nAccording to Eurostat statistic \"Road accident fatalities by vehicles\" car drivers and passengers represented the largest category of road traffic deaths in the EU in 2018, with 44.8 % of all road traffic fatalities.\n\n\n<img src=\"https://ec.europa.eu/eurostat/statistics-explained/images/d/d8/Road_accident_fatalities_by_category_of_vehicles%2C_2018_%28%25%29_pie.png\" alt=\"https://ec.europa.eu/eurostat/statistics-explained/images/d/d8/Road_accident_fatalities_by_category_of_vehicles%2C_2018_%28%25%29_pie.png\" class=\"transparent shrinkToFit\" width=\"470\" height=\"472\">\n\nTherefore, it is important to search new ways to reduce road traffic accidents. \n\n"
        },
        {
            "cell_type": "markdown",
            "metadata": {},
            "source": "#### Objective"
        },
        {
            "cell_type": "markdown",
            "metadata": {},
            "source": "To develop the navigation app that could warn the car drivers, given the weather, the road conditions and some other parameters about the possibility of getting into a car accident on the chosen route and how severe it would be. So this app would offer to change the travel route if it is possible or the car drivers can simply take into account the warn message and drive more carefully. \n"
        },
        {
            "cell_type": "markdown",
            "metadata": {},
            "source": "#### The target audience"
        },
        {
            "cell_type": "markdown",
            "metadata": {},
            "source": "The target audience for this app are the car drivers with smartphones. "
        },
        {
            "cell_type": "markdown",
            "metadata": {},
            "source": "#### Steakholders"
        },
        {
            "cell_type": "markdown",
            "metadata": {},
            "source": "The main stakeholders are the governments of the countries that are interested in the reducing of car accidents on the roads."
        },
        {
            "cell_type": "markdown",
            "metadata": {},
            "source": "#### Question"
        },
        {
            "cell_type": "markdown",
            "metadata": {},
            "source": "Can we predict for given route the severity of possible car accident in real time for any region?"
        },
        {
            "cell_type": "code",
            "execution_count": null,
            "metadata": {},
            "outputs": [],
            "source": ""
        }
    ],
    "metadata": {
        "kernelspec": {
            "display_name": "Python 3.6",
            "language": "python",
            "name": "python3"
        },
        "language_info": {
            "codemirror_mode": {
                "name": "ipython",
                "version": 3
            },
            "file_extension": ".py",
            "mimetype": "text/x-python",
            "name": "python",
            "nbconvert_exporter": "python",
            "pygments_lexer": "ipython3",
            "version": "3.6.9"
        }
    },
    "nbformat": 4,
    "nbformat_minor": 1
}